{
 "cells": [
  {
   "cell_type": "code",
   "execution_count": 132,
   "id": "92a205e3",
   "metadata": {},
   "outputs": [],
   "source": [
    "import numpy as np\n",
    "import pandas as pd\n",
    "from pandas import DataFrame as df\n",
    "\n",
    "import datetime\n",
    "from datetime import datetime as dt\n",
    "import matplotlib.pyplot as plt\n",
    "\n",
    "import os\n",
    "from scipy.io import netcdf\n",
    "import netCDF4\n",
    "import rioxarray\n",
    "\n",
    "from sklearn.neighbors import KNeighborsRegressor"
   ]
  },
  {
   "cell_type": "code",
   "execution_count": 236,
   "id": "250a3cab",
   "metadata": {},
   "outputs": [
    {
     "name": "stdout",
     "output_type": "stream",
     "text": [
      "/Users/vbc5136/Documents/Acads/3-Fall23/RA:Thesis/_SRA-2023/_Code\n"
     ]
    }
   ],
   "source": [
    "print(os.getcwd())\n",
    "DATA_FOLDER = '/Users/vbc5136/Documents/Acads/3-Fall23/RA:Thesis/_SRA-2023/_Data/'\n",
    "RESULTS_FOLDER = '/Users/vbc5136/Documents/Acads/3-Fall23/RA:Thesis/_SRA-2023/_Results/'\n",
    "CODE_FOLDER = '/Users/vbc5136/Documents/Acads/3-Fall23/RA:Thesis/_SRA-2023/_Code/'\n",
    "\n",
    "NARR_DATA_FOLDER = DATA_FOLDER + 'NARR/'\n",
    "NARR_RAW_DATA_FOLDER = NARR_DATA_FOLDER + 'Raw-Data/'\n",
    "NARR_FINAL_DATA_FOLDER = NARR_DATA_FOLDER + 'Final-Data/'\n",
    "NARR_FINAL_DATA_DONE_FOLDER = NARR_DATA_FOLDER + 'Final-Data-Done/'\n",
    "\n",
    "NARR_FINAL_DATA_FILTER_FOLDER = NARR_DATA_FOLDER + 'Final-Data-Filter/'\n",
    "\n"
   ]
  },
  {
   "cell_type": "code",
   "execution_count": 154,
   "id": "71feb9e3",
   "metadata": {},
   "outputs": [
    {
     "name": "stdout",
     "output_type": "stream",
     "text": [
      "['Total-Precipitation-apcp', 'air.sfc-air', 'Convective-Precipitation-acpcp', 'Total-Cloud-Cover-tcdc', 'U-WindSpeed-uwnd', 'DewPoint-dpt', 'Albedo-albedo', 'Temperature-pottmp', 'V-WindSpeed-vwnd', 'RH-rhum'] 10\n",
      "['apcp', 'air', 'acpcp', 'tcdc', 'uwnd', 'dpt', 'albedo', 'pottmp', 'vwnd', 'rhum'] 10\n"
     ]
    }
   ],
   "source": [
    "# narr_final_dirs = [file for file in os.listdir(NARR_FINAL_DATA_DONE_FOLDER) if file != '.DS_Store']\n",
    "narr_final_dirs = os.listdir(NARR_FINAL_DATA_DONE_FOLDER)\n",
    "narr_final_dirs.remove('.DS_Store')\n",
    "print(narr_final_dirs, len(narr_final_dirs))\n",
    "\n",
    "var_names = [dir_name.split('-')[-1] for dir_name in narr_final_dirs]\n",
    "print(var_names, len(var_names))"
   ]
  },
  {
   "cell_type": "code",
   "execution_count": 155,
   "id": "e2f48bec",
   "metadata": {},
   "outputs": [],
   "source": [
    "AIR_TEMP = 'air' # 1.Daily surface air temp. (K)\n",
    "PRECIP_AMT = 'apcp' # 2.Daily accumulated total surface precip. (kg/m2)\n",
    "CONV_PRECIP_AMT = 'acpcp' # 3.Daily accumulated conv. surface precip. (kg/m2)\n",
    "TOTAL_CLOUD_COVER = 'tcdc' # 4.Daily forecast total cloud cover. (%)\n",
    "UWND = 'uwnd' # 5.Daily u-wind eastward. (m/s)\n",
    "DEW_POINT_TEMP = 'dpt' # 6.Daily dew point temp. (K)\n",
    "ALBEDO = 'albedo' # 7.Daily surface albedo. (%)\n",
    "POT_TEMP = 'pottmp' # 8.Daily potential surface temp. (K)\n",
    "VWND = 'vwnd' # 9.Daily v-wind nothward. (m/s)\n",
    "RH = 'rhum' # 10.Daily RH. (%)\n"
   ]
  },
  {
   "cell_type": "code",
   "execution_count": 156,
   "id": "7f934ead",
   "metadata": {},
   "outputs": [
    {
     "name": "stdout",
     "output_type": "stream",
     "text": [
      "apcp.2016.nc\n",
      "air.sfc.2016.nc\n",
      "acpcp.2016.nc\n",
      "tcdc.2016.nc\n",
      "uwnd.10m.2016.nc\n",
      "dpt.2m.2016.nc\n",
      "albedo.2016.nc\n",
      "pottmp.sfc.2016.nc\n",
      "vwnd.10m.2016.nc\n",
      "rhum.2m.2016.nc\n",
      "['apcp', 'air', 'acpcp', 'tcdc', 'uwnd', 'dpt', 'albedo', 'pottmp', 'vwnd', 'rhum'] []\n",
      "{'apcp': array([  0., 100.], dtype=float32), 'air': array([180., 365.], dtype=float32), 'acpcp': array([ 0., 60.], dtype=float32), 'tcdc': array([  0., 100.], dtype=float32), 'uwnd': array([-100.,  100.], dtype=float32), 'dpt': array([165., 330.], dtype=float32), 'albedo': array([  0., 100.], dtype=float32), 'pottmp': array([150., 450.], dtype=float32), 'vwnd': array([-100.,  100.], dtype=float32), 'rhum': array([-20., 120.], dtype=float32)}\n"
     ]
    }
   ],
   "source": [
    "NARR_RAW_DATA_DONE_FOLDER = NARR_DATA_FOLDER + 'Raw-Data-Done/'\n",
    "DATA_STORAGE_FILENAME = []\n",
    "VARIABLE_NAME = []\n",
    "NCFILE = []\n",
    "valid_range_dict = {}\n",
    "\n",
    "for var_ in var_names:\n",
    "#     print(var_)\n",
    "    if var_ == 'air':\n",
    "        file_name = var_ + '.sfc.2016.nc'\n",
    "    elif var_ == 'dpt':\n",
    "        file_name = var_ + '.2m.2016.nc'\n",
    "    elif var_ == 'pottmp':\n",
    "        file_name = var_ + '.sfc.2016.nc'\n",
    "    elif var_ == 'rhum':\n",
    "        file_name = var_ + '.2m.2016.nc'\n",
    "    elif var_ == 'uwnd' or var_ == 'vwnd':\n",
    "        file_name = var_ + '.10m.2016.nc'\n",
    "    else:\n",
    "        file_name = var_ + '.2016.nc'\n",
    "    print(file_name)\n",
    "    NCFILE.append(netCDF4.Dataset(NARR_RAW_DATA_DONE_FOLDER + file_name))\n",
    "    VARIABLE_NAME.append(list(NCFILE[-1].variables.keys())[-1])\n",
    "    valid_range_dict[VARIABLE_NAME[-1]] = NCFILE[-1].variables[VARIABLE_NAME[-1]].valid_range\n",
    "\n",
    "print(VARIABLE_NAME, DATA_STORAGE_FILENAME)\n",
    "print(valid_range_dict)\n",
    "# print(NCFILE[0].variables)\n"
   ]
  },
  {
   "cell_type": "code",
   "execution_count": 157,
   "id": "d45e3c8e",
   "metadata": {},
   "outputs": [
    {
     "data": {
      "text/plain": [
       "(['Total-Precipitation-apcp',\n",
       "  'air.sfc-air',\n",
       "  'Convective-Precipitation-acpcp',\n",
       "  'Total-Cloud-Cover-tcdc',\n",
       "  'U-WindSpeed-uwnd',\n",
       "  'DewPoint-dpt',\n",
       "  'Albedo-albedo',\n",
       "  'Temperature-pottmp',\n",
       "  'V-WindSpeed-vwnd',\n",
       "  'RH-rhum'],\n",
       " 10)"
      ]
     },
     "execution_count": 157,
     "metadata": {},
     "output_type": "execute_result"
    }
   ],
   "source": [
    "narr_final_dirs, len(narr_final_dirs)"
   ]
  },
  {
   "cell_type": "code",
   "execution_count": 158,
   "id": "e1a7b671",
   "metadata": {},
   "outputs": [
    {
     "name": "stdout",
     "output_type": "stream",
     "text": [
      "['acpcp' 'air' 'albedo' 'apcp' 'dpt' 'pottmp' 'rhum' 'tcdc' 'uwnd' 'vwnd'] 10\n",
      "['acpcp' 'air' 'albedo' 'apcp' 'dpt' 'pottmp' 'rhum' 'tcdc' 'uwnd' 'vwnd'] 10\n"
     ]
    }
   ],
   "source": [
    "# narr_final_files = os.listdir(NARR_FINAL_DATA_DONE_FOLDER + narr_final_dirs[0])\n",
    "# narr_final_files.remove('.DS_Store')\n",
    "# narr_final_files, len(narr_final_files)\n",
    "\n",
    "narr_final_dirs = os.listdir(NARR_FINAL_DATA_FOLDER)\n",
    "narr_final_dirs.remove('.DS_Store')\n",
    "narr_final_dirs = [file for file in narr_final_dirs if '.xlsx' not in file]\n",
    "narr_final_dirs = np.sort(narr_final_dirs)\n",
    "print(narr_final_dirs, len(narr_final_dirs))\n",
    "\n",
    "var_names = narr_final_dirs\n",
    "print(var_names, len(var_names))"
   ]
  },
  {
   "cell_type": "code",
   "execution_count": 159,
   "id": "294a6b36",
   "metadata": {
    "scrolled": true
   },
   "outputs": [
    {
     "name": "stdout",
     "output_type": "stream",
     "text": [
      "['acpcp.2011.1.1.xlsx' 'acpcp.2011.1.10.xlsx' 'acpcp.2011.1.11.xlsx' ...\n",
      " 'acpcp.2015.9.7.xlsx' 'acpcp.2015.9.8.xlsx' 'acpcp.2015.9.9.xlsx'] 1826\n"
     ]
    }
   ],
   "source": [
    "narr_final_files = os.listdir(NARR_FINAL_DATA_FOLDER + narr_final_dirs[0])\n",
    "narr_final_files = np.sort(narr_final_files)\n",
    "if '.DS_Store' in narr_final_files:\n",
    "    narr_final_files.remove('.DS_Store')\n",
    "print(narr_final_files, len(narr_final_files))\n"
   ]
  },
  {
   "cell_type": "code",
   "execution_count": 245,
   "id": "7c4b0c7f",
   "metadata": {},
   "outputs": [
    {
     "name": "stdout",
     "output_type": "stream",
     "text": [
      "   plant_code        lat        lon\n",
      "0           2  33.458665 -87.356823\n",
      "1           4  32.583889 -86.283056\n",
      "2          11  33.784500 -86.052400\n",
      "3          12  33.255300 -87.449500\n",
      "4          13  32.618900 -86.254800\n",
      "(2129, 3)\n",
      "   plant_code        lat        lon\n",
      "0           2  33.458665 -87.356823\n",
      "1           4  32.583889 -86.283056\n",
      "2          11  33.784500 -86.052400\n",
      "3          12  33.255300 -87.449500\n",
      "4          13  32.618900 -86.254800\n",
      "(2129, 3)\n",
      "['plant_code', 'lat', 'lon']\n"
     ]
    }
   ],
   "source": [
    "# ref_lat_lon_df = pd.read_excel('lat_lon_df_shruti.xlsx')\n",
    "# print(ref_lat_lon_df.head())\n",
    "# print(ref_lat_lon_df.shape)\n",
    "# ref_lat_lon_df = ref_lat_lon_df.dropna()\n",
    "# print(ref_lat_lon_df.head())\n",
    "# print(ref_lat_lon_df.shape)\n",
    "# required_cols = ['Plant Code', 'lat', 'lon']\n",
    "# print(required_cols)\n",
    "\n",
    "\n",
    "ref_lat_lon_df = pd.read_excel('REF_LAT_LON.xlsx')\n",
    "print(ref_lat_lon_df.head())\n",
    "print(ref_lat_lon_df.shape)\n",
    "ref_lat_lon_df = ref_lat_lon_df.dropna()\n",
    "print(ref_lat_lon_df.head())\n",
    "print(ref_lat_lon_df.shape)\n",
    "PLANT_CODE = 'plant_code'\n",
    "LATITUDE = 'lat'\n",
    "LONGITUDE = 'lon'\n",
    "required_cols = [PLANT_CODE, LATITUDE, LONGITUDE]\n",
    "print(required_cols)\n"
   ]
  },
  {
   "cell_type": "code",
   "execution_count": 246,
   "id": "a044752f",
   "metadata": {},
   "outputs": [
    {
     "name": "stdout",
     "output_type": "stream",
     "text": [
      "['plant_code', 'lat', 'lon', 'vwnd']\n"
     ]
    }
   ],
   "source": [
    "FROM_NARR_FINAL_DATA_FILE_NUMBER = 0 # starting from 0-(NUMBER_NARR_RAW-1)\n",
    "TO_NARR_FINAL_DATA_FILE_NUMBER = 2557 # starting from 1-2557\n",
    "\n",
    "VAR_NUMBER = 9\n",
    "FILTER_DATA_STORE_PATH = os.path.join(NARR_FINAL_DATA_FILTER_FOLDER, var_names[VAR_NUMBER])\n",
    "required_cols = required_cols + [var_names[VAR_NUMBER]]\n",
    "print(required_cols)\n",
    "\n",
    "if not os.path.isdir(FILTER_DATA_STORE_PATH):\n",
    "    os.mkdir(FILTER_DATA_STORE_PATH)"
   ]
  },
  {
   "cell_type": "code",
   "execution_count": 247,
   "id": "db24eefa",
   "metadata": {},
   "outputs": [
    {
     "name": "stdout",
     "output_type": "stream",
     "text": [
      "{'apcp': array([  0., 100.], dtype=float32), 'air': array([180., 365.], dtype=float32), 'acpcp': array([ 0., 60.], dtype=float32), 'tcdc': array([  0., 100.], dtype=float32), 'uwnd': array([-100.,  100.], dtype=float32), 'dpt': array([165., 330.], dtype=float32), 'albedo': array([  0., 100.], dtype=float32), 'pottmp': array([150., 450.], dtype=float32), 'vwnd': array([-100.,  100.], dtype=float32), 'rhum': array([-20., 120.], dtype=float32)}\n",
      "-100.0 100.0\n"
     ]
    }
   ],
   "source": [
    "print(valid_range_dict)\n",
    "print(valid_range_dict[var_names[VAR_NUMBER]][0], valid_range_dict[var_names[VAR_NUMBER]][1])"
   ]
  },
  {
   "cell_type": "code",
   "execution_count": 248,
   "id": "ab63f6fd",
   "metadata": {},
   "outputs": [
    {
     "name": "stdout",
     "output_type": "stream",
     "text": [
      "['acpcp' 'air' 'albedo' 'apcp' 'dpt' 'pottmp' 'rhum' 'tcdc' 'uwnd' 'vwnd'] ['acpcp' 'air' 'albedo' 'apcp' 'dpt' 'pottmp' 'rhum' 'tcdc' 'uwnd' 'vwnd']\n",
      "['vwnd.10m.2011.1.1.xlsx' 'vwnd.10m.2011.1.10.xlsx'\n",
      " 'vwnd.10m.2011.1.11.xlsx' ... 'vwnd.10m.2015.9.7.xlsx'\n",
      " 'vwnd.10m.2015.9.8.xlsx' 'vwnd.10m.2015.9.9.xlsx'] 1826 vwnd\n"
     ]
    }
   ],
   "source": [
    "print(narr_final_dirs, var_names)\n",
    "# narr_final_files = os.listdir(NARR_FINAL_DATA_DONE_FOLDER + narr_final_dirs[VAR_NUMBER])\n",
    "# if '.DS_Store' in narr_final_files:\n",
    "#     narr_final_files.remove('.DS_Store')\n",
    "# print(narr_final_files, len(narr_final_files), var_names[VAR_NUMBER])\n",
    "\n",
    "narr_final_files = os.listdir(NARR_FINAL_DATA_FOLDER + narr_final_dirs[VAR_NUMBER])\n",
    "narr_final_files = np.sort(narr_final_files)\n",
    "if '.DS_Store' in narr_final_files:\n",
    "    narr_final_files.remove('.DS_Store')\n",
    "print(narr_final_files, len(narr_final_files), var_names[VAR_NUMBER])\n"
   ]
  },
  {
   "cell_type": "code",
   "execution_count": 249,
   "id": "ad918076",
   "metadata": {},
   "outputs": [
    {
     "data": {
      "text/plain": [
       "array(['acpcp', 'air', 'albedo', 'apcp', 'dpt', 'pottmp', 'rhum', 'tcdc',\n",
       "       'uwnd', 'vwnd'], dtype='<U6')"
      ]
     },
     "execution_count": 249,
     "metadata": {},
     "output_type": "execute_result"
    }
   ],
   "source": [
    "narr_final_dirs"
   ]
  },
  {
   "cell_type": "code",
   "execution_count": 250,
   "id": "b2f6c485",
   "metadata": {
    "scrolled": true
   },
   "outputs": [
    {
     "data": {
      "text/plain": [
       "array(['vwnd.10m.2015.9.9.xlsx'], dtype='<U24')"
      ]
     },
     "execution_count": 250,
     "metadata": {},
     "output_type": "execute_result"
    }
   ],
   "source": [
    "narr_final_files[FROM_NARR_FINAL_DATA_FILE_NUMBER-1:TO_NARR_FINAL_DATA_FILE_NUMBER]"
   ]
  },
  {
   "cell_type": "code",
   "execution_count": 251,
   "id": "04aae9f5",
   "metadata": {},
   "outputs": [
    {
     "data": {
      "text/plain": [
       "'/Users/vbc5136/Documents/Acads/3-Fall23/RA:Thesis/_SRA-2023/_Data/NARR/Final-Data-Filter/vwnd'"
      ]
     },
     "execution_count": 251,
     "metadata": {},
     "output_type": "execute_result"
    }
   ],
   "source": [
    "FILTER_DATA_STORE_PATH"
   ]
  },
  {
   "cell_type": "code",
   "execution_count": 253,
   "id": "3b4604a3",
   "metadata": {
    "scrolled": true
   },
   "outputs": [],
   "source": [
    "mean_dist_list = []\n",
    "std_dist_list = []\n",
    "K_NUMBER_NEIGHBORS = 1\n",
    "\n",
    "\n",
    "for file in narr_final_files[FROM_NARR_FINAL_DATA_FILE_NUMBER:TO_NARR_FINAL_DATA_FILE_NUMBER]:\n",
    "#     print(NARR_FINAL_DATA_DONE_FOLDER + narr_final_dirs[VAR_NUMBER] + '/' + file)\n",
    "    print(file)\n",
    "#     narr_daily_var_df = pd.read_excel(\n",
    "#         NARR_FINAL_DATA_DONE_FOLDER + narr_final_dirs[VAR_NUMBER] + '/' + file)\n",
    "    narr_daily_var_df = pd.read_excel(\n",
    "        NARR_FINAL_DATA_FOLDER + narr_final_dirs[VAR_NUMBER] + '/' + file)\n",
    "    \n",
    "#     print(narr_daily_var_df[['lat', 'lon']].shape)\n",
    "    valid_range = valid_range_dict[var_names[VAR_NUMBER]]\n",
    "    narr_daily_var_df = narr_daily_var_df[(\n",
    "        narr_daily_var_df[var_names[VAR_NUMBER]] >= valid_range[0]) & (\n",
    "        narr_daily_var_df[var_names[VAR_NUMBER]] <= valid_range[1])]\n",
    "    \n",
    "#     print(narr_daily_var_df[['lat', 'lon']].shape)\n",
    "#     print(narr_daily_var_df[var_names[VAR_NUMBER]].shape)\n",
    "    print(narr_daily_var_df.shape, narr_daily_var_df.columns)\n",
    "    #####################################################\n",
    "    knn_ = KNeighborsRegressor(n_neighbors=K_NUMBER_NEIGHBORS)\n",
    "    knn_.fit(narr_daily_var_df[['lat', 'lon']], narr_daily_var_df[var_names[VAR_NUMBER]])\n",
    "    ref_var_value = knn_.predict(ref_lat_lon_df[[LATITUDE, LONGITUDE]])\n",
    "    knn_neighbors_ = knn_.kneighbors(ref_lat_lon_df[['lat', 'lon']])\n",
    "    mean_dist_list.append(np.mean(knn_neighbors_[0]))\n",
    "    std_dist_list.append(np.std(knn_neighbors_[0]))\n",
    "#     print(len(ref_var_value), ref_lat_lon_df.shape)\n",
    "    \n",
    "    ref_lat_lon_df[var_names[VAR_NUMBER]] = ref_var_value\n",
    "    print(ref_lat_lon_df.shape)\n",
    "#     print(ref_lat_lon_df[var_names[VAR_NUMBER]].describe())\n",
    "    print(valid_range_dict[var_names[VAR_NUMBER]])\n",
    "    ref_lat_lon_df[required_cols].to_excel(\n",
    "        FILTER_DATA_STORE_PATH + '/' + file, index=False)\n",
    "    print('###########################')"
   ]
  },
  {
   "cell_type": "code",
   "execution_count": null,
   "id": "fd3122c3",
   "metadata": {},
   "outputs": [],
   "source": []
  },
  {
   "cell_type": "code",
   "execution_count": null,
   "id": "a627fe32",
   "metadata": {},
   "outputs": [],
   "source": []
  },
  {
   "cell_type": "code",
   "execution_count": null,
   "id": "fbd3392a",
   "metadata": {},
   "outputs": [],
   "source": []
  },
  {
   "cell_type": "code",
   "execution_count": null,
   "id": "a5cd0562",
   "metadata": {},
   "outputs": [],
   "source": []
  },
  {
   "cell_type": "code",
   "execution_count": null,
   "id": "71b3b4f1",
   "metadata": {},
   "outputs": [],
   "source": []
  },
  {
   "cell_type": "code",
   "execution_count": null,
   "id": "424ccb45",
   "metadata": {},
   "outputs": [],
   "source": []
  },
  {
   "cell_type": "code",
   "execution_count": null,
   "id": "7d3fd67e",
   "metadata": {},
   "outputs": [],
   "source": []
  },
  {
   "cell_type": "code",
   "execution_count": null,
   "id": "328b66b1",
   "metadata": {},
   "outputs": [],
   "source": []
  }
 ],
 "metadata": {
  "kernelspec": {
   "display_name": "Python 3 (ipykernel)",
   "language": "python",
   "name": "python3"
  },
  "language_info": {
   "codemirror_mode": {
    "name": "ipython",
    "version": 3
   },
   "file_extension": ".py",
   "mimetype": "text/x-python",
   "name": "python",
   "nbconvert_exporter": "python",
   "pygments_lexer": "ipython3",
   "version": "3.10.9"
  }
 },
 "nbformat": 4,
 "nbformat_minor": 5
}
