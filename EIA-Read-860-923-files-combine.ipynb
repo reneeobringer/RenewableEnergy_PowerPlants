{
 "cells": [
  {
   "cell_type": "code",
   "execution_count": 1,
   "id": "f5ca40ba",
   "metadata": {},
   "outputs": [],
   "source": [
    "import numpy as np\n",
    "import pandas as pd\n",
    "from pandas import DataFrame as df\n",
    "\n",
    "import datetime\n",
    "from datetime import datetime as dt\n",
    "import matplotlib.pyplot as plt\n",
    "\n",
    "import os\n",
    "\n",
    "from sklearn.neighbors import KNeighborsRegressor"
   ]
  },
  {
   "cell_type": "code",
   "execution_count": 2,
   "id": "dbfc7b9c",
   "metadata": {},
   "outputs": [
    {
     "name": "stdout",
     "output_type": "stream",
     "text": [
      "/Users/vbc5136/Documents/Acads/3-Fall23/RA:Thesis/_SRA-2023/_Code\n"
     ]
    }
   ],
   "source": [
    "print(os.getcwd())\n",
    "DATA_FOLDER = '/Users/vbc5136/Documents/Acads/3-Fall23/RA:Thesis/_SRA-2023/_Data/'\n",
    "RESULTS_FOLDER = '/Users/vbc5136/Documents/Acads/3-Fall23/RA:Thesis/_SRA-2023/_Results/'\n",
    "CODE_FOLDER = '/Users/vbc5136/Documents/Acads/3-Fall23/RA:Thesis/_SRA-2023/_Code/'\n",
    "\n",
    "EIA_DATA_FOLDER = DATA_FOLDER + 'EIA/'\n",
    "EIA860_DATA_FOLDER = EIA_DATA_FOLDER + 'EIA-Annual-Plant-Level-Capacity-860/'\n",
    "EIA923_DATA_FOLDER = EIA_DATA_FOLDER + 'EIA-Annual-Monthly-Generation-Plant-Level-923/'\n",
    "\n",
    "FILTER_DATA_STORE_PATH = EIA_DATA_FOLDER + 'Final-Data-Filter/'\n",
    "\n",
    "if not os.path.isdir(FILTER_DATA_STORE_PATH):\n",
    "    os.mkdir(FILTER_DATA_STORE_PATH)\n"
   ]
  },
  {
   "cell_type": "markdown",
   "id": "8badaee1",
   "metadata": {},
   "source": [
    "#### 1. Read EIA-860 files"
   ]
  },
  {
   "cell_type": "code",
   "execution_count": 6,
   "id": "aa19541f",
   "metadata": {},
   "outputs": [],
   "source": [
    "PLANT_INFO = 'Plant'\n",
    "GEN_INFO = 'Generator'"
   ]
  },
  {
   "cell_type": "code",
   "execution_count": 7,
   "id": "4445bcd9",
   "metadata": {},
   "outputs": [
    {
     "data": {
      "text/plain": [
       "['eia8602011',\n",
       " 'eia8602012',\n",
       " 'eia8602013',\n",
       " 'eia8602014',\n",
       " 'eia8602015',\n",
       " 'eia8602016',\n",
       " 'eia8602017',\n",
       " 'eia8602018',\n",
       " 'eia8602019',\n",
       " 'eia8602020',\n",
       " 'eia8602021',\n",
       " 'eia8602022']"
      ]
     },
     "execution_count": 7,
     "metadata": {},
     "output_type": "execute_result"
    }
   ],
   "source": [
    "eia860_folders = os.listdir(EIA860_DATA_FOLDER)\n",
    "eia860_folders.remove('.DS_Store')\n",
    "eia860_folders.sort()\n",
    "eia860_folders"
   ]
  },
  {
   "cell_type": "code",
   "execution_count": 8,
   "id": "866d1f47",
   "metadata": {
    "scrolled": true
   },
   "outputs": [
    {
     "name": "stdout",
     "output_type": "stream",
     "text": [
      "eia8602011\n",
      "['Plant.xlsx', 'GeneratorY2011.xlsx']\n",
      "###########################\n",
      "eia8602012\n",
      "['PlantY2012.xlsx', 'GeneratorY2012.xlsx']\n",
      "###########################\n",
      "eia8602013\n",
      "['3_1_Generator_Y2013.xlsx', '2___Plant_Y2013.xlsx']\n",
      "###########################\n",
      "eia8602014\n",
      "['2___Plant_Y2014.xlsx', '3_1_Generator_Y2014.xlsx']\n",
      "###########################\n",
      "eia8602015\n",
      "['3_1_Generator_Y2015.xlsx', '2___Plant_Y2015.xlsx']\n",
      "###########################\n",
      "eia8602016\n",
      "['2___Plant_Y2016.xlsx', '3_1_Generator_Y2016.xlsx']\n",
      "###########################\n",
      "eia8602017\n",
      "['3_1_Generator_Y2017.xlsx', '2___Plant_Y2017.xlsx']\n",
      "###########################\n",
      "eia8602018\n",
      "['2___Plant_Y2018.xlsx', '3_1_Generator_Y2018.xlsx']\n",
      "###########################\n",
      "eia8602019\n",
      "['3_1_Generator_Y2019.xlsx', '2___Plant_Y2019.xlsx']\n",
      "###########################\n",
      "eia8602020\n",
      "['2___Plant_Y2020.xlsx', '3_1_Generator_Y2020.xlsx']\n",
      "###########################\n",
      "eia8602021\n",
      "['3_1_Generator_Y2021.xlsx', '2___Plant_Y2021.xlsx']\n",
      "###########################\n",
      "eia8602022\n",
      "['2___Plant_Y2022.xlsx', '3_1_Generator_Y2022.xlsx']\n",
      "###########################\n",
      "{'eia8602011': {'Plant': 'Plant.xlsx', 'Generator': 'GeneratorY2011.xlsx'}, 'eia8602012': {'Plant': 'PlantY2012.xlsx', 'Generator': 'GeneratorY2012.xlsx'}, 'eia8602013': {'Plant': '2___Plant_Y2013.xlsx', 'Generator': '3_1_Generator_Y2013.xlsx'}, 'eia8602014': {'Plant': '2___Plant_Y2014.xlsx', 'Generator': '3_1_Generator_Y2014.xlsx'}, 'eia8602015': {'Plant': '2___Plant_Y2015.xlsx', 'Generator': '3_1_Generator_Y2015.xlsx'}, 'eia8602016': {'Plant': '2___Plant_Y2016.xlsx', 'Generator': '3_1_Generator_Y2016.xlsx'}, 'eia8602017': {'Plant': '2___Plant_Y2017.xlsx', 'Generator': '3_1_Generator_Y2017.xlsx'}, 'eia8602018': {'Plant': '2___Plant_Y2018.xlsx', 'Generator': '3_1_Generator_Y2018.xlsx'}, 'eia8602019': {'Plant': '2___Plant_Y2019.xlsx', 'Generator': '3_1_Generator_Y2019.xlsx'}, 'eia8602020': {'Plant': '2___Plant_Y2020.xlsx', 'Generator': '3_1_Generator_Y2020.xlsx'}, 'eia8602021': {'Plant': '2___Plant_Y2021.xlsx', 'Generator': '3_1_Generator_Y2021.xlsx'}, 'eia8602022': {'Plant': '2___Plant_Y2022.xlsx', 'Generator': '3_1_Generator_Y2022.xlsx'}}\n"
     ]
    }
   ],
   "source": [
    "required_files_dict = {}\n",
    "for dir_ in eia860_folders:\n",
    "    required_files_dict[dir_] = {}\n",
    "    files_list = os.listdir(EIA860_DATA_FOLDER + dir_)\n",
    "    print(dir_)\n",
    "    required_files_list = [file for file in files_list if (\n",
    "        PLANT_INFO in file or GEN_INFO in file) and ('~$' not in file)]\n",
    "    plant_file = [file for file in files_list if (\n",
    "        PLANT_INFO in file) and ('~$' not in file)][0]\n",
    "    generator_file = [file for file in files_list if (\n",
    "        GEN_INFO in file) and ('~$' not in file)][0]\n",
    "    print(required_files_list)\n",
    "    required_files_dict[dir_][PLANT_INFO] = plant_file\n",
    "    required_files_dict[dir_][GEN_INFO] = generator_file\n",
    "    print('###########################')\n",
    "print(required_files_dict)"
   ]
  },
  {
   "cell_type": "markdown",
   "id": "5cb2fd5e",
   "metadata": {},
   "source": [
    "##### Read EIA-860 Plant.xlsx"
   ]
  },
  {
   "cell_type": "code",
   "execution_count": 10,
   "id": "970bf40e",
   "metadata": {
    "scrolled": true
   },
   "outputs": [
    {
     "name": "stdout",
     "output_type": "stream",
     "text": [
      "(6856, 26) eia8602011 Plant.xlsx\n",
      "(6855, 26)\n",
      "#########################\n",
      "#########################\n",
      "#########################\n",
      "(7290, 28) eia8602012 PlantY2012.xlsx\n",
      "(7289, 28)\n",
      "#########################\n",
      "#########################\n",
      "#########################\n",
      "(8061, 36) eia8602013 2___Plant_Y2013.xlsx\n",
      "(8060, 36)\n",
      "#########################\n",
      "#########################\n",
      "#########################\n",
      "(8521, 36) eia8602014 2___Plant_Y2014.xlsx\n",
      "(8520, 36)\n",
      "#########################\n",
      "#########################\n",
      "#########################\n",
      "(8929, 36) eia8602015 2___Plant_Y2015.xlsx\n",
      "(8928, 36)\n",
      "#########################\n",
      "#########################\n",
      "#########################\n",
      "(9712, 42) eia8602016 2___Plant_Y2016.xlsx\n",
      "(9711, 42)\n",
      "#########################\n",
      "#########################\n",
      "#########################\n",
      "(10128, 42) eia8602017 2___Plant_Y2017.xlsx\n",
      "(10127, 42)\n",
      "#########################\n",
      "#########################\n",
      "#########################\n",
      "(10981, 42) eia8602018 2___Plant_Y2018.xlsx\n",
      "(10980, 42)\n",
      "#########################\n",
      "#########################\n",
      "#########################\n",
      "(11834, 42) eia8602019 2___Plant_Y2019.xlsx\n",
      "(11833, 42)\n",
      "#########################\n",
      "#########################\n",
      "#########################\n",
      "(12637, 42) eia8602020 2___Plant_Y2020.xlsx\n",
      "(12636, 42)\n",
      "#########################\n",
      "#########################\n",
      "#########################\n",
      "(13456, 42) eia8602021 2___Plant_Y2021.xlsx\n",
      "(13455, 42)\n",
      "#########################\n",
      "#########################\n",
      "#########################\n",
      "(14240, 42) eia8602022 2___Plant_Y2022.xlsx\n",
      "(14239, 42)\n",
      "#########################\n",
      "#########################\n",
      "#########################\n"
     ]
    }
   ],
   "source": [
    "# ONLY NEED TO RUN ONCE - DONE\n",
    "raw_plant_df_dict = {}\n",
    "for dir_ in required_files_dict:\n",
    "    raw_plant_df = pd.read_excel(\n",
    "        EIA860_DATA_FOLDER + dir_ + '/' + required_files_dict[dir_][PLANT_INFO])\n",
    "    print(raw_plant_df.shape, dir_, required_files_dict[dir_][PLANT_INFO])\n",
    "    raw_plant_df = raw_plant_df.rename(columns=raw_plant_df.iloc[0])\n",
    "    raw_plant_df = raw_plant_df.drop(raw_plant_df.index[0])\n",
    "    raw_plant_df.reset_index(drop=True)\n",
    "    print(raw_plant_df.shape)\n",
    "\n",
    "#     print(raw_plant_df.columns)\n",
    "    print('#########################')\n",
    "    standard_cols = raw_plant_df.columns.str.lower()\n",
    "#     print(standard_cols)\n",
    "    print('#########################')\n",
    "    raw_plant_df.columns = standard_cols\n",
    "    standard_cols = raw_plant_df.columns.str.replace(' ', '_')\n",
    "#     print(standard_cols)\n",
    "    print('#########################')\n",
    "    raw_plant_df.columns = standard_cols\n",
    "#     print(raw_plant_df.columns)\n",
    "\n",
    "    raw_plant_df_dict[dir_] = raw_plant_df\n"
   ]
  },
  {
   "cell_type": "markdown",
   "id": "158dbe0a",
   "metadata": {},
   "source": [
    "##### Read EIA-860 Generator.xlsx"
   ]
  },
  {
   "cell_type": "code",
   "execution_count": 12,
   "id": "3861ad2a",
   "metadata": {
    "scrolled": true
   },
   "outputs": [
    {
     "name": "stdout",
     "output_type": "stream",
     "text": [
      "(18531, 60) eia8602011 GeneratorY2011.xlsx\n",
      "(18530, 60)\n",
      "#########################\n",
      "#########################\n",
      "#########################\n",
      "(19024, 60) eia8602012 GeneratorY2012.xlsx\n",
      "(19023, 60)\n",
      "#########################\n",
      "#########################\n",
      "#########################\n",
      "(19244, 71) eia8602013 3_1_Generator_Y2013.xlsx\n",
      "(19243, 71)\n",
      "#########################\n",
      "#########################\n",
      "#########################\n",
      "(19746, 72) eia8602014 3_1_Generator_Y2014.xlsx\n",
      "(19745, 72)\n",
      "#########################\n",
      "#########################\n",
      "#########################\n",
      "(20070, 72) eia8602015 3_1_Generator_Y2015.xlsx\n",
      "(20069, 72)\n",
      "#########################\n",
      "#########################\n",
      "#########################\n",
      "(20726, 73) eia8602016 3_1_Generator_Y2016.xlsx\n",
      "(20725, 73)\n",
      "#########################\n",
      "#########################\n",
      "#########################\n",
      "(21439, 73) eia8602017 3_1_Generator_Y2017.xlsx\n",
      "(21438, 73)\n",
      "#########################\n",
      "#########################\n",
      "#########################\n",
      "(22120, 73) eia8602018 3_1_Generator_Y2018.xlsx\n",
      "(22119, 73)\n",
      "#########################\n",
      "#########################\n",
      "#########################\n",
      "(22732, 73) eia8602019 3_1_Generator_Y2019.xlsx\n",
      "(22731, 73)\n",
      "#########################\n",
      "#########################\n",
      "#########################\n",
      "(23419, 73) eia8602020 3_1_Generator_Y2020.xlsx\n",
      "(23418, 73)\n",
      "#########################\n",
      "#########################\n",
      "#########################\n",
      "(24647, 73) eia8602021 3_1_Generator_Y2021.xlsx\n",
      "(24646, 73)\n",
      "#########################\n",
      "#########################\n",
      "#########################\n",
      "(25380, 73) eia8602022 3_1_Generator_Y2022.xlsx\n",
      "(25379, 73)\n",
      "#########################\n",
      "#########################\n",
      "#########################\n"
     ]
    }
   ],
   "source": [
    "# ONLY NEED TO RUN ONCE - DONE\n",
    "raw_generator_df_dict = {}\n",
    "for dir_ in required_files_dict:\n",
    "    raw_generator_df = pd.read_excel(\n",
    "        EIA860_DATA_FOLDER + dir_ + '/' + required_files_dict[dir_][GEN_INFO])\n",
    "    print(raw_generator_df.shape, dir_, required_files_dict[dir_][GEN_INFO])\n",
    "    raw_generator_df = raw_generator_df.rename(columns=raw_generator_df.iloc[0])\n",
    "    raw_generator_df = raw_generator_df.drop(raw_generator_df.index[0])\n",
    "    raw_generator_df.reset_index(drop=True)\n",
    "    print(raw_generator_df.shape)\n",
    "\n",
    "#     print(raw_generator_df.columns)\n",
    "    print('#########################')\n",
    "    standard_cols = raw_generator_df.columns.str.lower()\n",
    "#     print(standard_cols)\n",
    "    print('#########################')\n",
    "    raw_generator_df.columns = standard_cols\n",
    "    standard_cols = raw_generator_df.columns.str.replace(' ', '_')\n",
    "#     print(standard_cols)\n",
    "    print('#########################')\n",
    "    raw_generator_df.columns = standard_cols\n",
    "#     print(raw_generator_df.columns)\n",
    "\n",
    "    raw_generator_df_dict[dir_] = raw_generator_df\n"
   ]
  },
  {
   "cell_type": "markdown",
   "id": "449b9aa1",
   "metadata": {},
   "source": [
    "##### Plant & Generator files common"
   ]
  },
  {
   "cell_type": "code",
   "execution_count": 13,
   "id": "bbeb71c9",
   "metadata": {},
   "outputs": [
    {
     "name": "stdout",
     "output_type": "stream",
     "text": [
      "{'ferc_small_power_docket', 'primary_purpose', 'ferc_cogen', 'gridvoltage', 'name_of_water_source', 'sector_name', 'ferc_exempt_wholesale_docket', 'ownertransdist', 'utility_id', 'ownertransid', 'regulatory_status', 'state', 'nerc', 'zip', 'plant_name', 'ownerstate', 'iso_rto_code', 'plant_code', 'ferc_exempt_wholesale', 'city', 'ferc_small_power', 'street_address', 'county', 'ferc_cogen_docket', 'iso_rto', 'sector'} 12 26\n"
     ]
    }
   ],
   "source": [
    "plant_df_columns_list = [set(\n",
    "    raw_plant_df_dict[dir_].columns) for dir_ in raw_plant_df_dict]\n",
    "print(plant_df_columns_list[0], len(plant_df_columns_list), len(plant_df_columns_list[0]))\n"
   ]
  },
  {
   "cell_type": "code",
   "execution_count": 14,
   "id": "1bf23bd5",
   "metadata": {
    "scrolled": true
   },
   "outputs": [
    {
     "name": "stdout",
     "output_type": "stream",
     "text": [
      "{'sfg_system', 'energy_source_4', 'planned_derates_month', 'other_mods', 'generator_id', 'status', 'planned_derates_net_winter_cap', 'planned_uprates_net_winter_cap', 'planned_new_primemover', 'planned_repower_month', 'supercritical', 'nameplate_capacity_mw', 'pulverized_coal', 'startup_source_4', 'energy_source_1', 'sector_name', 'subcritical', 'ownership', 'planned_derates_net_summer_cap', 'utility_id', 'operating_month', 'utility_name', 'energy_source_2', 'multiple_fuels', 'planned_energy_source_1', 'planned_repower_year', 'energy_source_5', 'startup_source_2', 'planned_uprates_net_summer_cap', 'planned_retirement_month', 'ultrasupercritical', 'state', 'operating_year', 'energy_source_6', 'planned_uprates_month', 'startup_source_1', 'plant_name', 'energy_source_3', 'deliver_power_transgrid', 'topping_bottoming', 'planned_derates_year', 'other_mod_year', 'prime_mover', 'unit_code', 'plant_code', 'duct_burners', 'summer_capacity_mw', 'fluidized_bed', 'planned_retirement_year', 'county', 'startup_source_3', 'synchronized_grid', 'winter_capacity_mw', 'planned_uprates_year', 'other_mod_month', 'turbines', 'carboncapture', 'cogenerator', 'sector', 'planned_modifications'} 12 60\n"
     ]
    }
   ],
   "source": [
    "gen_df_columns_list = [set(\n",
    "    raw_generator_df_dict[dir_].columns) for dir_ in raw_generator_df_dict]\n",
    "print(gen_df_columns_list[0], len(gen_df_columns_list), len(gen_df_columns_list[0]))\n"
   ]
  },
  {
   "cell_type": "code",
   "execution_count": 15,
   "id": "0be950ea",
   "metadata": {},
   "outputs": [
    {
     "name": "stdout",
     "output_type": "stream",
     "text": [
      "{'utility_id', 'county', 'plant_name', 'sector', 'plant_code', 'sector_name', 'state'} 7\n",
      "{'energy_source_4', 'generator_id', 'status', 'planned_repower_month', 'nameplate_capacity_mw', 'startup_source_4', 'energy_source_1', 'name_of_water_source', 'sector_name', 'ownership', 'utility_id', 'operating_month', 'utility_name', 'energy_source_2', 'planned_energy_source_1', 'planned_repower_year', 'energy_source_5', 'regulatory_status', 'planned_retirement_month', 'startup_source_2', 'state', 'operating_year', 'energy_source_6', 'zip', 'startup_source_1', 'plant_name', 'energy_source_3', 'prime_mover', 'plant_code', 'unit_code', 'duct_burners', 'city', 'summer_capacity_mw', 'planned_retirement_year', 'street_address', 'county', 'startup_source_3', 'winter_capacity_mw', 'sector'} 39\n"
     ]
    }
   ],
   "source": [
    "eia860_common_cols = []\n",
    "eia860_union_cols = []\n",
    "for plant_cols, gen_cols in zip(plant_df_columns_list, gen_df_columns_list):\n",
    "    eia860_common_cols.append(gen_cols & plant_cols)\n",
    "    eia860_union_cols.append(gen_cols | plant_cols)\n",
    "eia860_common_cols = set.intersection(*eia860_common_cols)\n",
    "eia860_union_cols = set.intersection(*eia860_union_cols)\n",
    "\n",
    "print(eia860_common_cols, len(eia860_common_cols))\n",
    "print(eia860_union_cols, len(eia860_union_cols))"
   ]
  },
  {
   "cell_type": "code",
   "execution_count": 16,
   "id": "d6adf0a8",
   "metadata": {},
   "outputs": [
    {
     "name": "stdout",
     "output_type": "stream",
     "text": [
      "['energy_source_1', 'nameplate_capacity_mw', 'operating_month', 'operating_year']\n"
     ]
    }
   ],
   "source": [
    "ENERGY_SOURCE = 'energy_source_1'\n",
    "NAMEPLATE_CAPACITY = 'nameplate_capacity_mw'\n",
    "SUMMER_CAPACITY = 'summer_capacity_mw'\n",
    "WINTER_CAPACITY = 'winter_capacity_mw'\n",
    "OPERATING_YEAR = 'operating_year'\n",
    "OPERATING_MONTH = 'operating_month'\n",
    "\n",
    "REQUIRED_ENERGY_SOURCES = ['SUN', 'WND', 'WAT', 'GEO']\n",
    "operating_cols = [OPERATING_MONTH, OPERATING_YEAR]\n",
    "capacity_cols = [NAMEPLATE_CAPACITY, SUMMER_CAPACITY, WINTER_CAPACITY]\n",
    "\n",
    "eia860_generator_cols = [ENERGY_SOURCE] + [capacity_cols[0]] + operating_cols\n",
    "print(eia860_generator_cols)"
   ]
  },
  {
   "cell_type": "markdown",
   "id": "caeb2a6a",
   "metadata": {},
   "source": [
    "##### Combine Plant & Generator dfs"
   ]
  },
  {
   "cell_type": "code",
   "execution_count": 17,
   "id": "27b30e43",
   "metadata": {},
   "outputs": [
    {
     "name": "stdout",
     "output_type": "stream",
     "text": [
      "########## eia8602011  DONE\n",
      "########## eia8602012  DONE\n",
      "########## eia8602013  DONE\n",
      "########## eia8602014  DONE\n",
      "########## eia8602015  DONE\n",
      "########## eia8602016  DONE\n",
      "########## eia8602017  DONE\n",
      "########## eia8602018  DONE\n",
      "########## eia8602019  DONE\n",
      "########## eia8602020  DONE\n",
      "########## eia8602021  DONE\n",
      "########## eia8602022  DONE\n"
     ]
    }
   ],
   "source": [
    "plant_grouped_df_dict = {}\n",
    "\n",
    "for key in raw_plant_df_dict:\n",
    "    raw_plant_df = raw_plant_df_dict[key]\n",
    "    raw_plant_df = raw_plant_df[list(eia860_common_cols)]\n",
    "    raw_plant_df = raw_plant_df[pd.isna(raw_plant_df['plant_code']) == False]\n",
    "    plant_grouped_df = raw_plant_df.groupby('plant_code').agg({\n",
    "        'sector': pd.Series.mode,\n",
    "        'plant_name': pd.Series.mode,\n",
    "        'state': pd.Series.mode,\n",
    "        'county': pd.Series.mode})\n",
    "    plant_grouped_df.reset_index(inplace=True)\n",
    "    plant_grouped_df_dict[key] = plant_grouped_df\n",
    "#     plant_grouped_df.to_excel(FILTER_DATA_STORE_PATH + key + '_plant_group_df.xlsx')\n",
    "    print('##########', key, ' DONE')\n"
   ]
  },
  {
   "cell_type": "code",
   "execution_count": 18,
   "id": "003e85b1",
   "metadata": {},
   "outputs": [
    {
     "name": "stdout",
     "output_type": "stream",
     "text": [
      "########## eia8602011  DONE\n",
      "########## eia8602012  DONE\n",
      "########## eia8602013  DONE\n",
      "########## eia8602014  DONE\n",
      "########## eia8602015  DONE\n",
      "########## eia8602016  DONE\n",
      "########## eia8602017  DONE\n",
      "########## eia8602018  DONE\n",
      "########## eia8602019  DONE\n",
      "########## eia8602020  DONE\n",
      "########## eia8602021  DONE\n",
      "########## eia8602022  DONE\n"
     ]
    }
   ],
   "source": [
    "gen_grouped_df_dict = {}\n",
    "\n",
    "for key in raw_generator_df_dict:\n",
    "    raw_generator_df = raw_generator_df_dict[key]\n",
    "    raw_generator_df = raw_generator_df[['plant_code'] + eia860_generator_cols]\n",
    "    raw_generator_df = raw_generator_df[pd.isna(raw_generator_df['plant_code']) == False]\n",
    "    raw_generator_df = raw_generator_df[raw_generator_df[ENERGY_SOURCE].isin(\n",
    "        REQUIRED_ENERGY_SOURCES)]\n",
    "    gen_grouped_df = raw_generator_df.groupby(\n",
    "        ['plant_code', 'operating_year', 'operating_month', 'energy_source_1']).sum()\n",
    "    gen_grouped_df.reset_index(inplace=True)\n",
    "    gen_grouped_df_dict[key] = gen_grouped_df\n",
    "#     gen_grouped_df.to_excel(FILTER_DATA_STORE_PATH + key + '_gen_group_df.xlsx')\n",
    "    print('##########', key, ' DONE')\n"
   ]
  },
  {
   "cell_type": "code",
   "execution_count": 19,
   "id": "201da6a6",
   "metadata": {
    "scrolled": true
   },
   "outputs": [
    {
     "name": "stdout",
     "output_type": "stream",
     "text": [
      "6855\n",
      "6781 eia8602012\n",
      "6705 eia8602013\n",
      "6617 eia8602014\n",
      "6569 eia8602015\n",
      "6517 eia8602016\n",
      "6461 eia8602017\n",
      "6411 eia8602018\n",
      "6345 eia8602019\n",
      "6280 eia8602020\n",
      "6184 eia8602021\n",
      "6134 eia8602022\n",
      "6134 #########\n",
      "3721\n",
      "2384 eia8602012\n",
      "2367 eia8602013\n",
      "2360 eia8602014\n",
      "2345 eia8602015\n",
      "2332 eia8602016\n",
      "2325 eia8602017\n",
      "2317 eia8602018\n",
      "2293 eia8602019\n",
      "2263 eia8602020\n",
      "2243 eia8602021\n",
      "2227 eia8602022\n",
      "2227 #########\n",
      "True\n"
     ]
    }
   ],
   "source": [
    "common_plant_grouped_list = list(plant_grouped_df_dict[eia860_folders[0]]['plant_code'])\n",
    "print(len(common_plant_grouped_list))\n",
    "\n",
    "for name in eia860_folders[1:]:\n",
    "    plant_code_list = list(plant_grouped_df_dict[name]['plant_code'])\n",
    "    common_plant_grouped_list = list(set(common_plant_grouped_list) & set(plant_code_list))\n",
    "    print(len(common_plant_grouped_list), name)\n",
    "\n",
    "print(len(common_plant_grouped_list), '#########')\n",
    "\n",
    "common_gen_grouped_list = list(gen_grouped_df_dict[eia860_folders[0]]['plant_code'])\n",
    "print(len(common_gen_grouped_list))\n",
    "\n",
    "for name in eia860_folders[1:]:\n",
    "    gen_code_list = list(gen_grouped_df_dict[name]['plant_code'])\n",
    "    common_gen_grouped_list = list(set(common_gen_grouped_list) & set(gen_code_list))\n",
    "    print(len(common_gen_grouped_list), name)\n",
    "\n",
    "print(len(common_gen_grouped_list), '#########')\n",
    "print(set(common_gen_grouped_list) == set(\n",
    "    common_gen_grouped_list) & set(common_plant_grouped_list))\n",
    "# common_gen_grouped_list is a proper subset of common_plant_grouped_list"
   ]
  },
  {
   "cell_type": "code",
   "execution_count": 20,
   "id": "c84a3afb",
   "metadata": {
    "scrolled": true
   },
   "outputs": [
    {
     "name": "stdout",
     "output_type": "stream",
     "text": [
      "(3721, 5)\n",
      "(3494, 5) eia8602011\n",
      "(6855, 5)\n",
      "(2227, 5) eia8602011\n",
      "######################\n",
      "(4085, 5)\n",
      "(3521, 5) eia8602012\n",
      "(7289, 5)\n",
      "(2227, 5) eia8602012\n",
      "######################\n",
      "(4401, 5)\n",
      "(3530, 5) eia8602013\n",
      "(8060, 5)\n",
      "(2227, 5) eia8602013\n",
      "######################\n",
      "(4790, 5)\n",
      "(3532, 5) eia8602014\n",
      "(8520, 5)\n",
      "(2227, 5) eia8602014\n",
      "######################\n",
      "(5184, 5)\n",
      "(3539, 5) eia8602015\n",
      "(8928, 5)\n",
      "(2227, 5) eia8602015\n",
      "######################\n",
      "(5830, 5)\n",
      "(3543, 5) eia8602016\n",
      "(9711, 5)\n",
      "(2227, 5) eia8602016\n",
      "######################\n",
      "(6396, 5)\n",
      "(3542, 5) eia8602017\n",
      "(10127, 5)\n",
      "(2227, 5) eia8602017\n",
      "######################\n",
      "(6925, 5)\n",
      "(3547, 5) eia8602018\n",
      "(10980, 5)\n",
      "(2227, 5) eia8602018\n",
      "######################\n",
      "(7516, 5)\n",
      "(3543, 5) eia8602019\n",
      "(11833, 5)\n",
      "(2227, 5) eia8602019\n",
      "######################\n",
      "(8211, 5)\n",
      "(3543, 5) eia8602020\n",
      "(12636, 5)\n",
      "(2227, 5) eia8602020\n",
      "######################\n",
      "(8913, 5)\n",
      "(3545, 5) eia8602021\n",
      "(13455, 5)\n",
      "(2227, 5) eia8602021\n",
      "######################\n",
      "(9443, 5)\n",
      "(3551, 5) eia8602022\n",
      "(14239, 5)\n",
      "(2227, 5) eia8602022\n",
      "######################\n"
     ]
    }
   ],
   "source": [
    "final_gen_grouped_df_dict = {}\n",
    "final_plant_grouped_df_dict = {}\n",
    "\n",
    "for name in eia860_folders:\n",
    "    gen_grouped_df = gen_grouped_df_dict[name]\n",
    "    print(gen_grouped_df.shape)\n",
    "    gen_grouped_df = gen_grouped_df[gen_grouped_df['plant_code'].isin(\n",
    "        common_gen_grouped_list)]\n",
    "    gen_grouped_df.reset_index(inplace=True, drop=True)\n",
    "    final_gen_grouped_df_dict[name] = gen_grouped_df\n",
    "#     gen_grouped_df.to_excel(FILTER_DATA_STORE_PATH + name + '_final_gen_group_df.xlsx')\n",
    "    print(gen_grouped_df.shape, name)\n",
    "    \n",
    "    plant_grouped_df = plant_grouped_df_dict[name]\n",
    "    print(plant_grouped_df.shape)\n",
    "    plant_grouped_df = plant_grouped_df[plant_grouped_df['plant_code'].isin(\n",
    "        common_gen_grouped_list)]\n",
    "    plant_grouped_df.reset_index(inplace=True, drop=True)\n",
    "    final_plant_grouped_df_dict[name] = plant_grouped_df\n",
    "#     plant_grouped_df.to_excel(FILTER_DATA_STORE_PATH + name + '_final_plant_group_df.xlsx')\n",
    "    print(plant_grouped_df.shape, name)\n",
    "    print('######################')\n"
   ]
  },
  {
   "cell_type": "code",
   "execution_count": 140,
   "id": "a86c679f",
   "metadata": {},
   "outputs": [],
   "source": [
    "# raw_plant_df = raw_plant_df[list(eia860_common_cols)]\n",
    "# raw_plant_df\n",
    "\n",
    "# raw_generator_df = raw_generator_df[['plant_code'] + eia860_generator_cols]\n",
    "# raw_generator_df = raw_generator_df[pd.isna(raw_generator_df['plant_code']) == False]\n",
    "# raw_generator_df = raw_generator_df[raw_generator_df[ENERGY_SOURCE].isin(\n",
    "#     REQUIRED_ENERGY_SOURCES)]\n",
    "# raw_generator_df\n",
    "\n",
    "# gen_grouped_df = raw_generator_df.groupby(\n",
    "#     ['plant_code', 'operating_year', 'operating_month', 'energy_source_1']).sum()\n",
    "# plant_grouped_df = raw_plant_df.groupby('plant_code').agg({\n",
    "#     'sector': pd.Series.mode,\n",
    "#     'plant_name': pd.Series.mode,\n",
    "#     'state': pd.Series.mode,\n",
    "#     'county': pd.Series.mode})\n",
    "\n",
    "# gen_grouped_df.to_excel('eia860_gen_grouped_2022.xlsx')\n",
    "# plant_grouped_df.to_excel('eia860_plant_grouped_2022.xlsx')\n",
    "\n",
    "# gen_grouped_df\n"
   ]
  },
  {
   "cell_type": "code",
   "execution_count": 141,
   "id": "88526e2b",
   "metadata": {},
   "outputs": [],
   "source": [
    "# ## ISSUE 1 as of 25th nov, 2023\n",
    "# summer_nan_plant_codes = np.unique(\n",
    "#     raw_generator_df[raw_generator_df[capacity_cols[1]] == '.']['PLANT_CODE'])\n",
    "# winter_nan_plant_codes = np.unique(\n",
    "#     raw_generator_df[raw_generator_df[capacity_cols[2]] == '.']['PLANT_CODE'])\n",
    "# print(summer_nan_plant_codes)\n",
    "# print(winter_nan_plant_codes)\n",
    "\n",
    "# raw_generator_summer_df = raw_generator_df[raw_generator_df[capacity_cols[1]] != '.']\n",
    "# summer_groupby_df = raw_generator_summer_df[['PLANT_CODE'] + [capacity_cols[1]]].groupby(\n",
    "#     ['PLANT_CODE']).sum()\n",
    "\n",
    "# raw_generator_winter_df = raw_generator_df[raw_generator_df[capacity_cols[2]] != '.']\n",
    "# winter_groupby_df = raw_generator_winter_df[['PLANT_CODE'] + [capacity_cols[2]]].groupby(\n",
    "#     ['PLANT_CODE']).sum()\n",
    "\n",
    "# summer_groupby_df, winter_groupby_df\n",
    "\n",
    "# print([plt for plt in summer_nan_plant_codes if plt not in summer_groupby_df.index])\n",
    "# print([plt for plt in winter_nan_plant_codes if plt not in winter_groupby_df.index])"
   ]
  },
  {
   "cell_type": "markdown",
   "id": "248f31dd",
   "metadata": {},
   "source": [
    "#### 2. Read EIA-923 files"
   ]
  },
  {
   "cell_type": "code",
   "execution_count": 72,
   "id": "06bdc2cc",
   "metadata": {
    "scrolled": true
   },
   "outputs": [
    {
     "data": {
      "text/plain": [
       "['f923_2011',\n",
       " 'f923_2012',\n",
       " 'f923_2013',\n",
       " 'f923_2014',\n",
       " 'f923_2015',\n",
       " 'f923_2016',\n",
       " 'f923_2017',\n",
       " 'f923_2018',\n",
       " 'f923_2019',\n",
       " 'f923_2020',\n",
       " 'f923_2021',\n",
       " 'f923_2022']"
      ]
     },
     "execution_count": 72,
     "metadata": {},
     "output_type": "execute_result"
    }
   ],
   "source": [
    "EIA923_FILE = 'EIA923_Schedules_2_3_4_5'\n",
    "\n",
    "eia923_folders = os.listdir(EIA923_DATA_FOLDER)\n",
    "eia923_folders.remove('.DS_Store')\n",
    "eia923_folders.sort()\n",
    "eia923_folders"
   ]
  },
  {
   "cell_type": "code",
   "execution_count": 73,
   "id": "b0c54dc7",
   "metadata": {
    "scrolled": false
   },
   "outputs": [
    {
     "name": "stdout",
     "output_type": "stream",
     "text": [
      "f923_2011\n",
      "f923_2012\n",
      "f923_2013\n",
      "f923_2014\n",
      "f923_2015\n",
      "f923_2016\n",
      "f923_2017\n",
      "f923_2018\n",
      "f923_2019\n",
      "f923_2020\n",
      "f923_2021\n",
      "f923_2022\n",
      "{'f923_2011': 'EIA923_Schedules_2_3_4_5_2011_Final_Revision.xlsx', 'f923_2012': 'EIA923_Schedules_2_3_4_5_M_12_2012_Final_Revision.xlsx', 'f923_2013': 'EIA923_Schedules_2_3_4_5_2013_Final_Revision.xlsx', 'f923_2014': 'EIA923_Schedules_2_3_4_5_M_12_2014_Final_Revision.xlsx', 'f923_2015': 'EIA923_Schedules_2_3_4_5_M_12_2015_Final_Revision.xlsx', 'f923_2016': 'EIA923_Schedules_2_3_4_5_M_12_2016_Final_Revision.xlsx', 'f923_2017': 'EIA923_Schedules_2_3_4_5_M_12_2017_Final_Revision.xlsx', 'f923_2018': 'EIA923_Schedules_2_3_4_5_M_12_2018_Final_Revision.xlsx', 'f923_2019': 'EIA923_Schedules_2_3_4_5_M_12_2019_Final_Revision.xlsx', 'f923_2020': 'EIA923_Schedules_2_3_4_5_M_12_2020_Final_Revision.xlsx', 'f923_2021': 'EIA923_Schedules_2_3_4_5_M_12_2021_Final_Revision.xlsx', 'f923_2022': 'EIA923_Schedules_2_3_4_5_M_12_2022_Final.xlsx'}\n"
     ]
    }
   ],
   "source": [
    "required_files_dict = {}\n",
    "for dir_ in eia923_folders:\n",
    "    files_list = os.listdir(EIA923_DATA_FOLDER + dir_)\n",
    "    print(dir_)\n",
    "    required_file = [file for file in files_list if (\n",
    "        EIA923_FILE in file) and ('~$' not in file)][0]\n",
    "    required_files_dict[dir_] = required_file\n",
    "#     print(required_files_dict)\n",
    "#     print('###########################')\n",
    "print(required_files_dict)"
   ]
  },
  {
   "cell_type": "code",
   "execution_count": 74,
   "id": "d19f6420",
   "metadata": {},
   "outputs": [
    {
     "name": "stdout",
     "output_type": "stream",
     "text": [
      "(16458, 97) f923_2022 EIA923_Schedules_2_3_4_5_M_12_2022_Final.xlsx\n",
      "(16453, 97) f923_2022 EIA923_Schedules_2_3_4_5_M_12_2022_Final.xlsx\n",
      "['Netgen_Jan', 'Netgen_Feb', 'Netgen_Mar', 'Netgen_Apr', 'Netgen_May', 'Netgen_Jun', 'Netgen_Jul', 'Netgen_Aug', 'Netgen_Sep', 'Netgen_Oct', 'Netgen_Nov', 'Netgen_Dec'] {'Netgen_Jan': 1, 'Netgen_Feb': 2, 'Netgen_Mar': 3, 'Netgen_Apr': 4, 'Netgen_May': 5, 'Netgen_Jun': 6, 'Netgen_Jul': 7, 'Netgen_Aug': 8, 'Netgen_Sep': 9, 'Netgen_Oct': 10, 'Netgen_Nov': 11, 'Netgen_Dec': 12}\n",
      "['Netgen_Jan', 'Netgen_Feb', 'Netgen_Mar', 'Netgen_Apr', 'Netgen_May', 'Netgen_Jun', 'Netgen_Jul', 'Netgen_Aug', 'Netgen_Sep', 'Netgen_Oct', 'Netgen_Nov', 'Netgen_Dec']\n"
     ]
    }
   ],
   "source": [
    "raw_eia923_df = pd.read_excel(\n",
    "    EIA923_DATA_FOLDER + eia923_folders[-1] + '/' + required_files_dict[eia923_folders[-1]])\n",
    "print(raw_eia923_df.shape, dir_, required_files_dict[dir_])\n",
    "raw_eia923_df = raw_eia923_df.rename(columns=raw_eia923_df.iloc[4])\n",
    "raw_eia923_df = raw_eia923_df.drop(raw_eia923_df.index[0:5])\n",
    "print(raw_eia923_df.shape, eia923_folders[-1], required_files_dict[eia923_folders[-1]])\n",
    "\n",
    "NETGEN_COLUMNS = [col for col in raw_eia923_df.columns if 'Netgen_' in col]\n",
    "MONTH_NUMBERS_DICT = {key: i+1 for i, key in enumerate(NETGEN_COLUMNS)}\n",
    "print(NETGEN_COLUMNS, MONTH_NUMBERS_DICT)\n",
    "\n",
    "PLANT_ID = 'Plant Id'\n",
    "PLANT_NAME = 'Plant Name'\n",
    "STATE = 'State'\n",
    "FUEL_SOURCE = 'Reported Fuel Type Code'\n",
    "NETGEN_ANNUAL = 'Net Generation (Megawatthours)'\n",
    "YEAR = 'YEAR'\n",
    "print(NETGEN_COLUMNS)"
   ]
  },
  {
   "cell_type": "code",
   "execution_count": 96,
   "id": "2a84062f",
   "metadata": {
    "scrolled": true
   },
   "outputs": [
    {
     "name": "stdout",
     "output_type": "stream",
     "text": [
      "(10466, 97) f923_2011 EIA923_Schedules_2_3_4_5_2011_Final_Revision.xlsx\n",
      "(10461, 97) f923_2011 EIA923_Schedules_2_3_4_5_2011_Final_Revision.xlsx\n",
      "(2225, 97) f923_2011 EIA923_Schedules_2_3_4_5_2011_Final_Revision.xlsx\n",
      "(2225, 97)\n",
      "(2202, 14)\n",
      "#########################\n",
      "(11009, 97) f923_2012 EIA923_Schedules_2_3_4_5_M_12_2012_Final_Revision.xlsx\n",
      "(11004, 97) f923_2012 EIA923_Schedules_2_3_4_5_M_12_2012_Final_Revision.xlsx\n",
      "(2235, 97) f923_2012 EIA923_Schedules_2_3_4_5_M_12_2012_Final_Revision.xlsx\n",
      "(2235, 97)\n",
      "(2208, 14)\n",
      "#########################\n",
      "(11471, 97) f923_2013 EIA923_Schedules_2_3_4_5_2013_Final_Revision.xlsx\n",
      "(11466, 97) f923_2013 EIA923_Schedules_2_3_4_5_2013_Final_Revision.xlsx\n",
      "(2226, 97) f923_2013 EIA923_Schedules_2_3_4_5_2013_Final_Revision.xlsx\n",
      "(2226, 97)\n",
      "(2201, 14)\n",
      "#########################\n",
      "(12177, 97) f923_2014 EIA923_Schedules_2_3_4_5_M_12_2014_Final_Revision.xlsx\n",
      "(12172, 97) f923_2014 EIA923_Schedules_2_3_4_5_M_12_2014_Final_Revision.xlsx\n",
      "(2222, 97) f923_2014 EIA923_Schedules_2_3_4_5_M_12_2014_Final_Revision.xlsx\n",
      "(2222, 97)\n",
      "(2200, 14)\n",
      "#########################\n",
      "(12455, 97) f923_2015 EIA923_Schedules_2_3_4_5_M_12_2015_Final_Revision.xlsx\n",
      "(12450, 97) f923_2015 EIA923_Schedules_2_3_4_5_M_12_2015_Final_Revision.xlsx\n",
      "(2229, 97) f923_2015 EIA923_Schedules_2_3_4_5_M_12_2015_Final_Revision.xlsx\n",
      "(2229, 97)\n",
      "(2205, 14)\n",
      "#########################\n",
      "(12869, 97) f923_2016 EIA923_Schedules_2_3_4_5_M_12_2016_Final_Revision.xlsx\n",
      "(12864, 97) f923_2016 EIA923_Schedules_2_3_4_5_M_12_2016_Final_Revision.xlsx\n",
      "(2232, 97) f923_2016 EIA923_Schedules_2_3_4_5_M_12_2016_Final_Revision.xlsx\n",
      "(2232, 97)\n",
      "(2207, 14)\n",
      "#########################\n",
      "(13384, 97) f923_2017 EIA923_Schedules_2_3_4_5_M_12_2017_Final_Revision.xlsx\n",
      "(13379, 97) f923_2017 EIA923_Schedules_2_3_4_5_M_12_2017_Final_Revision.xlsx\n",
      "(2229, 97) f923_2017 EIA923_Schedules_2_3_4_5_M_12_2017_Final_Revision.xlsx\n",
      "(2229, 97)\n",
      "(2203, 14)\n",
      "#########################\n",
      "(13964, 97) f923_2018 EIA923_Schedules_2_3_4_5_M_12_2018_Final_Revision.xlsx\n",
      "(13959, 97) f923_2018 EIA923_Schedules_2_3_4_5_M_12_2018_Final_Revision.xlsx\n",
      "(2234, 97) f923_2018 EIA923_Schedules_2_3_4_5_M_12_2018_Final_Revision.xlsx\n",
      "(2234, 97)\n",
      "(2206, 14)\n",
      "#########################\n",
      "(14522, 97) f923_2019 EIA923_Schedules_2_3_4_5_M_12_2019_Final_Revision.xlsx\n",
      "(14517, 97) f923_2019 EIA923_Schedules_2_3_4_5_M_12_2019_Final_Revision.xlsx\n",
      "(2230, 97) f923_2019 EIA923_Schedules_2_3_4_5_M_12_2019_Final_Revision.xlsx\n",
      "(2230, 97)\n",
      "(2203, 14)\n",
      "#########################\n",
      "(15120, 97) f923_2020 EIA923_Schedules_2_3_4_5_M_12_2020_Final_Revision.xlsx\n",
      "(15115, 97) f923_2020 EIA923_Schedules_2_3_4_5_M_12_2020_Final_Revision.xlsx\n",
      "(2236, 97) f923_2020 EIA923_Schedules_2_3_4_5_M_12_2020_Final_Revision.xlsx\n",
      "(2236, 97)\n",
      "(2205, 14)\n",
      "#########################\n",
      "(15801, 97) f923_2021 EIA923_Schedules_2_3_4_5_M_12_2021_Final_Revision.xlsx\n",
      "(15796, 97) f923_2021 EIA923_Schedules_2_3_4_5_M_12_2021_Final_Revision.xlsx\n",
      "(2218, 97) f923_2021 EIA923_Schedules_2_3_4_5_M_12_2021_Final_Revision.xlsx\n",
      "(2218, 97)\n",
      "(2186, 14)\n",
      "#########################\n",
      "(16458, 97) f923_2022 EIA923_Schedules_2_3_4_5_M_12_2022_Final.xlsx\n",
      "(16453, 97) f923_2022 EIA923_Schedules_2_3_4_5_M_12_2022_Final.xlsx\n",
      "(2217, 97) f923_2022 EIA923_Schedules_2_3_4_5_M_12_2022_Final.xlsx\n",
      "(2217, 97)\n",
      "(2183, 14)\n",
      "#########################\n"
     ]
    }
   ],
   "source": [
    "# ONLY NEED TO RUN ONCE - DONE\n",
    "raw_eia923_df_dict = {}\n",
    "for dir_ in required_files_dict:\n",
    "    \n",
    "    raw_eia923_df = pd.read_excel(\n",
    "        EIA923_DATA_FOLDER + dir_ + '/' + required_files_dict[dir_])\n",
    "    print(raw_eia923_df.shape, dir_, required_files_dict[dir_])\n",
    "    raw_eia923_df = raw_eia923_df.rename(columns=raw_eia923_df.iloc[4])\n",
    "    raw_eia923_df = raw_eia923_df.drop(raw_eia923_df.index[0:5])\n",
    "    print(raw_eia923_df.shape, dir_, required_files_dict[dir_])\n",
    "    raw_eia923_df = raw_eia923_df[raw_eia923_df['Reported Fuel Type Code'].isin(\n",
    "        REQUIRED_ENERGY_SOURCES)]\n",
    "    raw_eia923_df = raw_eia923_df[raw_eia923_df[PLANT_ID].isin(common_gen_grouped_list)]\n",
    "    print(raw_eia923_df.shape, dir_, required_files_dict[dir_])\n",
    "    raw_eia923_df.reset_index(inplace=True, drop=True)\n",
    "    print(raw_eia923_df.shape)\n",
    "    raw_eia923_df = raw_eia923_df.replace('.', 0)\n",
    "    raw_eia923_df = raw_eia923_df[[PLANT_ID, NETGEN_ANNUAL] + NETGEN_COLUMNS].groupby(\n",
    "        PLANT_ID).sum()\n",
    "    raw_eia923_df.reset_index(inplace=True)\n",
    "    print(raw_eia923_df.shape)\n",
    "    raw_eia923_df_dict[dir_] = raw_eia923_df\n",
    "    print('#########################')\n"
   ]
  },
  {
   "cell_type": "code",
   "execution_count": 97,
   "id": "d689b902",
   "metadata": {},
   "outputs": [
    {
     "name": "stdout",
     "output_type": "stream",
     "text": [
      "2227\n"
     ]
    }
   ],
   "source": [
    "print(len(common_gen_grouped_list))"
   ]
  },
  {
   "cell_type": "code",
   "execution_count": 100,
   "id": "ba64cb30",
   "metadata": {
    "scrolled": true
   },
   "outputs": [
    {
     "name": "stdout",
     "output_type": "stream",
     "text": [
      "2202\n",
      "2201 f923_2012\n",
      "2189 f923_2013\n",
      "2179 f923_2014\n",
      "2174 f923_2015\n",
      "2171 f923_2016\n",
      "2166 f923_2017\n",
      "2164 f923_2018\n",
      "2160 f923_2019\n",
      "2158 f923_2020\n",
      "2135 f923_2021\n",
      "2129 f923_2022\n",
      "2129 #########\n",
      "False\n",
      "True\n"
     ]
    }
   ],
   "source": [
    "common_plants_eia923_list = list(raw_eia923_df_dict[eia923_folders[0]][PLANT_ID])\n",
    "print(len(common_plants_eia923_list))\n",
    "\n",
    "for name in eia923_folders[1:]:\n",
    "    plant_code_list = list(raw_eia923_df_dict[name][PLANT_ID])\n",
    "    common_plants_eia923_list = list(set(common_plants_eia923_list) & set(plant_code_list))\n",
    "    print(len(common_plants_eia923_list), name)\n",
    "\n",
    "print(len(common_plants_eia923_list), '#########')\n",
    "\n",
    "print(set(common_gen_grouped_list) & set(\n",
    "    common_plants_eia923_list) == set(common_gen_grouped_list))\n",
    "print(set(common_gen_grouped_list) & set(\n",
    "    common_plants_eia923_list) == set(common_plants_eia923_list))\n",
    "# common_plants_eia923_list is a proper subset of common_gen_grouped_list\n",
    "# use common_plants_eia923_list instead for [REF_LAT_LON] -> NARR climate subset"
   ]
  },
  {
   "cell_type": "markdown",
   "id": "ac358bf4",
   "metadata": {},
   "source": [
    "#### Get [REF_LAT_LON].xlsx"
   ]
  },
  {
   "cell_type": "code",
   "execution_count": 101,
   "id": "f0c11fab",
   "metadata": {},
   "outputs": [],
   "source": [
    "LATITUDE = 'latitude'\n",
    "LONGITUDE = 'longitude'"
   ]
  },
  {
   "cell_type": "code",
   "execution_count": 103,
   "id": "30092fe2",
   "metadata": {},
   "outputs": [
    {
     "data": {
      "text/html": [
       "<div>\n",
       "<style scoped>\n",
       "    .dataframe tbody tr th:only-of-type {\n",
       "        vertical-align: middle;\n",
       "    }\n",
       "\n",
       "    .dataframe tbody tr th {\n",
       "        vertical-align: top;\n",
       "    }\n",
       "\n",
       "    .dataframe thead th {\n",
       "        text-align: right;\n",
       "    }\n",
       "</style>\n",
       "<table border=\"1\" class=\"dataframe\">\n",
       "  <thead>\n",
       "    <tr style=\"text-align: right;\">\n",
       "      <th></th>\n",
       "      <th>plant_code</th>\n",
       "      <th>latitude</th>\n",
       "      <th>longitude</th>\n",
       "    </tr>\n",
       "  </thead>\n",
       "  <tbody>\n",
       "    <tr>\n",
       "      <th>0</th>\n",
       "      <td>2</td>\n",
       "      <td>33.458665</td>\n",
       "      <td>-87.356823</td>\n",
       "    </tr>\n",
       "    <tr>\n",
       "      <th>1</th>\n",
       "      <td>4</td>\n",
       "      <td>32.583889</td>\n",
       "      <td>-86.283056</td>\n",
       "    </tr>\n",
       "    <tr>\n",
       "      <th>2</th>\n",
       "      <td>11</td>\n",
       "      <td>33.7845</td>\n",
       "      <td>-86.0524</td>\n",
       "    </tr>\n",
       "    <tr>\n",
       "      <th>3</th>\n",
       "      <td>12</td>\n",
       "      <td>33.2553</td>\n",
       "      <td>-87.4495</td>\n",
       "    </tr>\n",
       "    <tr>\n",
       "      <th>4</th>\n",
       "      <td>13</td>\n",
       "      <td>32.6189</td>\n",
       "      <td>-86.2548</td>\n",
       "    </tr>\n",
       "    <tr>\n",
       "      <th>...</th>\n",
       "      <td>...</td>\n",
       "      <td>...</td>\n",
       "      <td>...</td>\n",
       "    </tr>\n",
       "    <tr>\n",
       "      <th>2124</th>\n",
       "      <td>57939</td>\n",
       "      <td>32.866837</td>\n",
       "      <td>-111.771751</td>\n",
       "    </tr>\n",
       "    <tr>\n",
       "      <th>2125</th>\n",
       "      <td>57947</td>\n",
       "      <td>32.55434</td>\n",
       "      <td>-107.50929</td>\n",
       "    </tr>\n",
       "    <tr>\n",
       "      <th>2126</th>\n",
       "      <td>57948</td>\n",
       "      <td>39.380565</td>\n",
       "      <td>-75.188312</td>\n",
       "    </tr>\n",
       "    <tr>\n",
       "      <th>2127</th>\n",
       "      <td>57956</td>\n",
       "      <td>35.325278</td>\n",
       "      <td>-98.071389</td>\n",
       "    </tr>\n",
       "    <tr>\n",
       "      <th>2128</th>\n",
       "      <td>58080</td>\n",
       "      <td>33.733006</td>\n",
       "      <td>-97.428406</td>\n",
       "    </tr>\n",
       "  </tbody>\n",
       "</table>\n",
       "<p>2129 rows × 3 columns</p>\n",
       "</div>"
      ],
      "text/plain": [
       "     plant_code   latitude   longitude\n",
       "0             2  33.458665  -87.356823\n",
       "1             4  32.583889  -86.283056\n",
       "2            11    33.7845    -86.0524\n",
       "3            12    33.2553    -87.4495\n",
       "4            13    32.6189    -86.2548\n",
       "...         ...        ...         ...\n",
       "2124      57939  32.866837 -111.771751\n",
       "2125      57947   32.55434  -107.50929\n",
       "2126      57948  39.380565  -75.188312\n",
       "2127      57956  35.325278  -98.071389\n",
       "2128      58080  33.733006  -97.428406\n",
       "\n",
       "[2129 rows x 3 columns]"
      ]
     },
     "execution_count": 103,
     "metadata": {},
     "output_type": "execute_result"
    }
   ],
   "source": [
    "final_lat_lon_df = raw_plant_df_dict[eia860_folders[-1]]\n",
    "final_lat_lon_df = final_lat_lon_df[final_lat_lon_df['plant_code'].isin(\n",
    "    common_plants_eia923_list)]\n",
    "final_lat_lon_df = final_lat_lon_df[['plant_code', LATITUDE, LONGITUDE]]\n",
    "final_lat_lon_df.reset_index(inplace=True, drop=True)\n",
    "final_lat_lon_df"
   ]
  },
  {
   "cell_type": "code",
   "execution_count": 104,
   "id": "f66bdc05",
   "metadata": {},
   "outputs": [],
   "source": [
    "# DONE WITH THIS\n",
    "# final_lat_lon_df.to_excel('REF_LAT_LON.xlsx', index=False)"
   ]
  },
  {
   "cell_type": "markdown",
   "id": "aa9fd851",
   "metadata": {},
   "source": [
    "#### Combine EIA-860 and EIA-923 files"
   ]
  },
  {
   "cell_type": "code",
   "execution_count": 110,
   "id": "784f83ff",
   "metadata": {},
   "outputs": [],
   "source": [
    "# raw_eia923_df.to_excel('raw_eia923_df_2022.xlsx', index=False)"
   ]
  },
  {
   "cell_type": "code",
   "execution_count": 112,
   "id": "6686a769",
   "metadata": {},
   "outputs": [],
   "source": [
    "# i am here"
   ]
  },
  {
   "cell_type": "code",
   "execution_count": 117,
   "id": "3b868f2a",
   "metadata": {},
   "outputs": [
    {
     "data": {
      "text/plain": [
       "[2011, 2012, 2013, 2014, 2015, 2016, 2017, 2018, 2019, 2020, 2021, 2022]"
      ]
     },
     "execution_count": 117,
     "metadata": {},
     "output_type": "execute_result"
    }
   ],
   "source": [
    "[int(k.split('f923_')[1]) for k in eia923_folders]"
   ]
  },
  {
   "cell_type": "code",
   "execution_count": 123,
   "id": "f3eeab64",
   "metadata": {},
   "outputs": [
    {
     "data": {
      "text/html": [
       "<div>\n",
       "<style scoped>\n",
       "    .dataframe tbody tr th:only-of-type {\n",
       "        vertical-align: middle;\n",
       "    }\n",
       "\n",
       "    .dataframe tbody tr th {\n",
       "        vertical-align: top;\n",
       "    }\n",
       "\n",
       "    .dataframe thead th {\n",
       "        text-align: right;\n",
       "    }\n",
       "</style>\n",
       "<table border=\"1\" class=\"dataframe\">\n",
       "  <thead>\n",
       "    <tr style=\"text-align: right;\">\n",
       "      <th></th>\n",
       "      <th>index</th>\n",
       "      <th>plant_code</th>\n",
       "      <th>month</th>\n",
       "      <th>year</th>\n",
       "      <th>net_gen</th>\n",
       "    </tr>\n",
       "  </thead>\n",
       "  <tbody>\n",
       "    <tr>\n",
       "      <th>0</th>\n",
       "      <td>0</td>\n",
       "      <td>2.0</td>\n",
       "      <td>2.0</td>\n",
       "      <td>2022.0</td>\n",
       "      <td>1.4</td>\n",
       "    </tr>\n",
       "    <tr>\n",
       "      <th>1</th>\n",
       "      <td>0</td>\n",
       "      <td>2.0</td>\n",
       "      <td>2.0</td>\n",
       "      <td>2022.0</td>\n",
       "      <td>1.4</td>\n",
       "    </tr>\n",
       "    <tr>\n",
       "      <th>2</th>\n",
       "      <td>0</td>\n",
       "      <td>2.0</td>\n",
       "      <td>2.0</td>\n",
       "      <td>2022.0</td>\n",
       "      <td>1.4</td>\n",
       "    </tr>\n",
       "    <tr>\n",
       "      <th>3</th>\n",
       "      <td>0</td>\n",
       "      <td>2.0</td>\n",
       "      <td>2.0</td>\n",
       "      <td>2022.0</td>\n",
       "      <td>1.4</td>\n",
       "    </tr>\n",
       "    <tr>\n",
       "      <th>4</th>\n",
       "      <td>0</td>\n",
       "      <td>2.0</td>\n",
       "      <td>2.0</td>\n",
       "      <td>2022.0</td>\n",
       "      <td>1.4</td>\n",
       "    </tr>\n",
       "  </tbody>\n",
       "</table>\n",
       "</div>"
      ],
      "text/plain": [
       "   index  plant_code  month    year  net_gen\n",
       "0      0         2.0    2.0  2022.0      1.4\n",
       "1      0         2.0    2.0  2022.0      1.4\n",
       "2      0         2.0    2.0  2022.0      1.4\n",
       "3      0         2.0    2.0  2022.0      1.4\n",
       "4      0         2.0    2.0  2022.0      1.4"
      ]
     },
     "execution_count": 123,
     "metadata": {},
     "output_type": "execute_result"
    }
   ],
   "source": [
    "eia923_master_monthly_df = df({PLANT_CODE: [], MONTH: [], YEAR: [], GENERATION: []})\n",
    "\n",
    "x = {PLANT_CODE: [2], MONTH: [2], YEAR: [2022], GENERATION: [1.4]}\n",
    "\n",
    "eia923_master_monthly_df = pd.concat([eia923_master_monthly_df, df(x)])\n",
    "eia923_master_monthly_df = pd.concat([eia923_master_monthly_df, df(x)])\n",
    "eia923_master_monthly_df = pd.concat([eia923_master_monthly_df, df(x)])\n",
    "eia923_master_monthly_df = pd.concat([eia923_master_monthly_df, df(x)])\n",
    "eia923_master_monthly_df = pd.concat([eia923_master_monthly_df, df(x)])\n",
    "eia923_master_monthly_df.reset_index(inplace=True)\n",
    "eia923_master_monthly_df"
   ]
  },
  {
   "cell_type": "code",
   "execution_count": 147,
   "id": "32bd37e6",
   "metadata": {},
   "outputs": [],
   "source": [
    "PLANT_CODE = 'plant_code'\n",
    "MONTH = 'month'\n",
    "YEAR = 'year'\n",
    "GENERATION = 'net_gen_mwh'\n",
    "CAPACITY = 'nameplate_capacity_mw'\n"
   ]
  },
  {
   "cell_type": "code",
   "execution_count": 129,
   "id": "d11df54a",
   "metadata": {},
   "outputs": [
    {
     "name": "stdout",
     "output_type": "stream",
     "text": [
      "(0, 4)\n",
      "(2202, 14) ########### f923_2011\n",
      "(2208, 14) ########### f923_2012\n",
      "(2201, 14) ########### f923_2013\n",
      "(2200, 14) ########### f923_2014\n",
      "(2205, 14) ########### f923_2015\n",
      "(2207, 14) ########### f923_2016\n",
      "(2203, 14) ########### f923_2017\n",
      "(2206, 14) ########### f923_2018\n",
      "(2203, 14) ########### f923_2019\n",
      "(2205, 14) ########### f923_2020\n",
      "(2186, 14) ########### f923_2021\n",
      "(2183, 14) ########### f923_2022\n",
      "(316908, 4)\n"
     ]
    }
   ],
   "source": [
    "eia923_master_monthly_df = df({PLANT_CODE: [], MONTH: [], YEAR: [], GENERATION: []})\n",
    "print(eia923_master_monthly_df.shape)\n",
    "for dir_ in raw_eia923_df_dict:\n",
    "    raw_eia923_df = raw_eia923_df_dict[dir_]\n",
    "    print(raw_eia923_df.shape, '###########', dir_)\n",
    "    for ind, row in raw_eia923_df.iterrows():\n",
    "        for month_col in NETGEN_COLUMNS:\n",
    "            append_dict = {PLANT_CODE: [row[PLANT_ID]],\n",
    "                           MONTH: [MONTH_NUMBERS_DICT[month_col]],\n",
    "                           YEAR: [int(dir_.split('f923_')[1])],\n",
    "                           GENERATION: [row[month_col]]}\n",
    "            eia923_master_monthly_df = pd.concat([eia923_master_monthly_df, df(append_dict)])\n",
    "#             eia923_master_monthly_df = eia923_master_monthly_df.append(\n",
    "#                 append_dict, ignore_index=True)\n",
    "eia923_master_monthly_df.reset_index(inplace=True, drop=True)\n",
    "print(eia923_master_monthly_df.shape)\n",
    "\n",
    "eia923_master_monthly_df.to_excel(\n",
    "    FILTER_DATA_STORE_PATH + 'eia923_master_df.xlsx', index=False)"
   ]
  },
  {
   "cell_type": "code",
   "execution_count": 160,
   "id": "e895eb47",
   "metadata": {},
   "outputs": [],
   "source": [
    "# new_plants_list = np.unique(list(\n",
    "#     gen_grouped_df[gen_grouped_df[OPERATING_YEAR] > 2011][PLANT_CODE]))\n",
    "# old_plants_list = np.unique(list(\n",
    "#     gen_grouped_df[gen_grouped_df[OPERATING_YEAR] <= 2011][PLANT_CODE]))\n",
    "# print(len(old_plants_list), len(new_plants_list), len(old_plants_list) + len(new_plants_list))\n",
    "\n",
    "# common_old_new_plants_list = [plt for plt in new_plants_list if plt in old_plants_list]\n",
    "# print(len(common_old_new_plants_list))"
   ]
  },
  {
   "cell_type": "code",
   "execution_count": 158,
   "id": "7c9dab56",
   "metadata": {},
   "outputs": [
    {
     "name": "stdout",
     "output_type": "stream",
     "text": [
      "(3494, 5) ########### eia8602011\n",
      "(3521, 5) ########### eia8602012\n",
      "(3530, 5) ########### eia8602013\n",
      "(3532, 5) ########### eia8602014\n",
      "(3539, 5) ########### eia8602015\n",
      "(3543, 5) ########### eia8602016\n",
      "(3542, 5) ########### eia8602017\n",
      "(3547, 5) ########### eia8602018\n",
      "(3543, 5) ########### eia8602019\n",
      "(3543, 5) ########### eia8602020\n",
      "(3545, 5) ########### eia8602021\n",
      "(3551, 5) ########### eia8602022\n",
      "(3646, 5)\n"
     ]
    }
   ],
   "source": [
    "eia860_master_cap_df = df({PLANT_CODE: [], MONTH: [], YEAR: [],\n",
    "                           ENERGY_SOURCE: [], CAPACITY: []})\n",
    "\n",
    "for dir_ in final_gen_grouped_df_dict:\n",
    "    gen_grouped_df = final_gen_grouped_df_dict[dir_]\n",
    "    print(gen_grouped_df.shape, '###########', dir_)\n",
    "    for ind, row in gen_grouped_df.iterrows():\n",
    "        \n",
    "        if not (((eia860_master_cap_df[PLANT_CODE] == row[PLANT_CODE]) & \n",
    "                 (eia860_master_cap_df[MONTH] == row[OPERATING_MONTH]) & \n",
    "                 (eia860_master_cap_df[YEAR] == row[OPERATING_YEAR])).any()):\n",
    "            append_dict = {PLANT_CODE: [row[PLANT_CODE]],\n",
    "                           MONTH: [row[OPERATING_MONTH]],\n",
    "                           YEAR: [row[OPERATING_YEAR]],\n",
    "                           ENERGY_SOURCE: [row[ENERGY_SOURCE]],\n",
    "                           CAPACITY: [row[NAMEPLATE_CAPACITY]]}\n",
    "            eia860_master_cap_df = pd.concat([eia860_master_cap_df, df(append_dict)])\n",
    "#             eia923_master_monthly_df = eia923_master_monthly_df.append(\n",
    "#                 append_dict, ignore_index=True)\n",
    "eia860_master_cap_df.reset_index(inplace=True, drop=True)\n",
    "print(eia860_master_cap_df.shape)\n",
    "\n",
    "eia860_master_cap_df = eia860_master_cap_df[eia860_master_cap_df[PLANT_CODE].isin(\n",
    "    common_plants_eia923_list)]\n",
    "eia860_master_cap_df.to_excel(\n",
    "    FILTER_DATA_STORE_PATH + 'eia860_master_cap_df.xlsx', index=False)    \n",
    "    \n",
    "    "
   ]
  },
  {
   "cell_type": "code",
   "execution_count": null,
   "id": "822025cb",
   "metadata": {},
   "outputs": [],
   "source": [
    "def get_cap_col(r):\n",
    "    \n",
    "    return r\n",
    "\n",
    "eia923_master_monthly_df = eia923_master_monthly_df.apply(get_cap_col, axis=1)"
   ]
  },
  {
   "cell_type": "code",
   "execution_count": 161,
   "id": "b5694d0f",
   "metadata": {},
   "outputs": [
    {
     "data": {
      "text/html": [
       "<div>\n",
       "<style scoped>\n",
       "    .dataframe tbody tr th:only-of-type {\n",
       "        vertical-align: middle;\n",
       "    }\n",
       "\n",
       "    .dataframe tbody tr th {\n",
       "        vertical-align: top;\n",
       "    }\n",
       "\n",
       "    .dataframe thead th {\n",
       "        text-align: right;\n",
       "    }\n",
       "</style>\n",
       "<table border=\"1\" class=\"dataframe\">\n",
       "  <thead>\n",
       "    <tr style=\"text-align: right;\">\n",
       "      <th></th>\n",
       "      <th>plant_code</th>\n",
       "      <th>month</th>\n",
       "      <th>year</th>\n",
       "      <th>energy_source_1</th>\n",
       "      <th>nameplate_capacity_mw</th>\n",
       "    </tr>\n",
       "  </thead>\n",
       "  <tbody>\n",
       "    <tr>\n",
       "      <th>0</th>\n",
       "      <td>2.0</td>\n",
       "      <td>7.0</td>\n",
       "      <td>1963.0</td>\n",
       "      <td>WAT</td>\n",
       "      <td>45.0</td>\n",
       "    </tr>\n",
       "    <tr>\n",
       "      <th>1</th>\n",
       "      <td>4.0</td>\n",
       "      <td>7.0</td>\n",
       "      <td>1967.0</td>\n",
       "      <td>WAT</td>\n",
       "      <td>75.0</td>\n",
       "    </tr>\n",
       "    <tr>\n",
       "      <th>2</th>\n",
       "      <td>4.0</td>\n",
       "      <td>8.0</td>\n",
       "      <td>1967.0</td>\n",
       "      <td>WAT</td>\n",
       "      <td>150.0</td>\n",
       "    </tr>\n",
       "    <tr>\n",
       "      <th>3</th>\n",
       "      <td>11.0</td>\n",
       "      <td>6.0</td>\n",
       "      <td>1966.0</td>\n",
       "      <td>WAT</td>\n",
       "      <td>72.9</td>\n",
       "    </tr>\n",
       "    <tr>\n",
       "      <th>4</th>\n",
       "      <td>12.0</td>\n",
       "      <td>8.0</td>\n",
       "      <td>1968.0</td>\n",
       "      <td>WAT</td>\n",
       "      <td>40.0</td>\n",
       "    </tr>\n",
       "    <tr>\n",
       "      <th>...</th>\n",
       "      <td>...</td>\n",
       "      <td>...</td>\n",
       "      <td>...</td>\n",
       "      <td>...</td>\n",
       "      <td>...</td>\n",
       "    </tr>\n",
       "    <tr>\n",
       "      <th>3640</th>\n",
       "      <td>6422.0</td>\n",
       "      <td>3.0</td>\n",
       "      <td>2022.0</td>\n",
       "      <td>WAT</td>\n",
       "      <td>4.1</td>\n",
       "    </tr>\n",
       "    <tr>\n",
       "      <th>3642</th>\n",
       "      <td>50654.0</td>\n",
       "      <td>7.0</td>\n",
       "      <td>2022.0</td>\n",
       "      <td>SUN</td>\n",
       "      <td>2.0</td>\n",
       "    </tr>\n",
       "    <tr>\n",
       "      <th>3643</th>\n",
       "      <td>54111.0</td>\n",
       "      <td>11.0</td>\n",
       "      <td>2022.0</td>\n",
       "      <td>GEO</td>\n",
       "      <td>42.5</td>\n",
       "    </tr>\n",
       "    <tr>\n",
       "      <th>3644</th>\n",
       "      <td>56336.0</td>\n",
       "      <td>2.0</td>\n",
       "      <td>2022.0</td>\n",
       "      <td>WND</td>\n",
       "      <td>145.0</td>\n",
       "    </tr>\n",
       "    <tr>\n",
       "      <th>3645</th>\n",
       "      <td>56540.0</td>\n",
       "      <td>7.0</td>\n",
       "      <td>2022.0</td>\n",
       "      <td>SUN</td>\n",
       "      <td>3.0</td>\n",
       "    </tr>\n",
       "  </tbody>\n",
       "</table>\n",
       "<p>3514 rows × 5 columns</p>\n",
       "</div>"
      ],
      "text/plain": [
       "      plant_code  month    year energy_source_1  nameplate_capacity_mw\n",
       "0            2.0    7.0  1963.0             WAT                   45.0\n",
       "1            4.0    7.0  1967.0             WAT                   75.0\n",
       "2            4.0    8.0  1967.0             WAT                  150.0\n",
       "3           11.0    6.0  1966.0             WAT                   72.9\n",
       "4           12.0    8.0  1968.0             WAT                   40.0\n",
       "...          ...    ...     ...             ...                    ...\n",
       "3640      6422.0    3.0  2022.0             WAT                    4.1\n",
       "3642     50654.0    7.0  2022.0             SUN                    2.0\n",
       "3643     54111.0   11.0  2022.0             GEO                   42.5\n",
       "3644     56336.0    2.0  2022.0             WND                  145.0\n",
       "3645     56540.0    7.0  2022.0             SUN                    3.0\n",
       "\n",
       "[3514 rows x 5 columns]"
      ]
     },
     "execution_count": 161,
     "metadata": {},
     "output_type": "execute_result"
    }
   ],
   "source": [
    "eia860_master_cap_df"
   ]
  },
  {
   "cell_type": "code",
   "execution_count": 162,
   "id": "f0a27a4d",
   "metadata": {},
   "outputs": [
    {
     "data": {
      "text/html": [
       "<div>\n",
       "<style scoped>\n",
       "    .dataframe tbody tr th:only-of-type {\n",
       "        vertical-align: middle;\n",
       "    }\n",
       "\n",
       "    .dataframe tbody tr th {\n",
       "        vertical-align: top;\n",
       "    }\n",
       "\n",
       "    .dataframe thead th {\n",
       "        text-align: right;\n",
       "    }\n",
       "</style>\n",
       "<table border=\"1\" class=\"dataframe\">\n",
       "  <thead>\n",
       "    <tr style=\"text-align: right;\">\n",
       "      <th></th>\n",
       "      <th>plant_code</th>\n",
       "      <th>month</th>\n",
       "      <th>year</th>\n",
       "      <th>net_gen</th>\n",
       "    </tr>\n",
       "  </thead>\n",
       "  <tbody>\n",
       "    <tr>\n",
       "      <th>0</th>\n",
       "      <td>2.0</td>\n",
       "      <td>1.0</td>\n",
       "      <td>2011.0</td>\n",
       "      <td>11312.437</td>\n",
       "    </tr>\n",
       "    <tr>\n",
       "      <th>1</th>\n",
       "      <td>2.0</td>\n",
       "      <td>2.0</td>\n",
       "      <td>2011.0</td>\n",
       "      <td>9090.908</td>\n",
       "    </tr>\n",
       "    <tr>\n",
       "      <th>2</th>\n",
       "      <td>2.0</td>\n",
       "      <td>3.0</td>\n",
       "      <td>2011.0</td>\n",
       "      <td>22446.993</td>\n",
       "    </tr>\n",
       "    <tr>\n",
       "      <th>3</th>\n",
       "      <td>2.0</td>\n",
       "      <td>4.0</td>\n",
       "      <td>2011.0</td>\n",
       "      <td>20390.027</td>\n",
       "    </tr>\n",
       "    <tr>\n",
       "      <th>4</th>\n",
       "      <td>2.0</td>\n",
       "      <td>5.0</td>\n",
       "      <td>2011.0</td>\n",
       "      <td>7243.627</td>\n",
       "    </tr>\n",
       "    <tr>\n",
       "      <th>...</th>\n",
       "      <td>...</td>\n",
       "      <td>...</td>\n",
       "      <td>...</td>\n",
       "      <td>...</td>\n",
       "    </tr>\n",
       "    <tr>\n",
       "      <th>316903</th>\n",
       "      <td>58080.0</td>\n",
       "      <td>8.0</td>\n",
       "      <td>2022.0</td>\n",
       "      <td>23394.840</td>\n",
       "    </tr>\n",
       "    <tr>\n",
       "      <th>316904</th>\n",
       "      <td>58080.0</td>\n",
       "      <td>9.0</td>\n",
       "      <td>2022.0</td>\n",
       "      <td>21587.098</td>\n",
       "    </tr>\n",
       "    <tr>\n",
       "      <th>316905</th>\n",
       "      <td>58080.0</td>\n",
       "      <td>10.0</td>\n",
       "      <td>2022.0</td>\n",
       "      <td>28148.298</td>\n",
       "    </tr>\n",
       "    <tr>\n",
       "      <th>316906</th>\n",
       "      <td>58080.0</td>\n",
       "      <td>11.0</td>\n",
       "      <td>2022.0</td>\n",
       "      <td>34128.740</td>\n",
       "    </tr>\n",
       "    <tr>\n",
       "      <th>316907</th>\n",
       "      <td>58080.0</td>\n",
       "      <td>12.0</td>\n",
       "      <td>2022.0</td>\n",
       "      <td>32059.618</td>\n",
       "    </tr>\n",
       "  </tbody>\n",
       "</table>\n",
       "<p>316908 rows × 4 columns</p>\n",
       "</div>"
      ],
      "text/plain": [
       "        plant_code  month    year    net_gen\n",
       "0              2.0    1.0  2011.0  11312.437\n",
       "1              2.0    2.0  2011.0   9090.908\n",
       "2              2.0    3.0  2011.0  22446.993\n",
       "3              2.0    4.0  2011.0  20390.027\n",
       "4              2.0    5.0  2011.0   7243.627\n",
       "...            ...    ...     ...        ...\n",
       "316903     58080.0    8.0  2022.0  23394.840\n",
       "316904     58080.0    9.0  2022.0  21587.098\n",
       "316905     58080.0   10.0  2022.0  28148.298\n",
       "316906     58080.0   11.0  2022.0  34128.740\n",
       "316907     58080.0   12.0  2022.0  32059.618\n",
       "\n",
       "[316908 rows x 4 columns]"
      ]
     },
     "execution_count": 162,
     "metadata": {},
     "output_type": "execute_result"
    }
   ],
   "source": [
    "eia923_master_monthly_df"
   ]
  },
  {
   "cell_type": "code",
   "execution_count": null,
   "id": "d3f6e6e4",
   "metadata": {},
   "outputs": [],
   "source": []
  },
  {
   "cell_type": "code",
   "execution_count": null,
   "id": "2aff3dd9",
   "metadata": {},
   "outputs": [],
   "source": []
  },
  {
   "cell_type": "code",
   "execution_count": null,
   "id": "11664b10",
   "metadata": {},
   "outputs": [],
   "source": []
  },
  {
   "cell_type": "code",
   "execution_count": null,
   "id": "23cd13b6",
   "metadata": {},
   "outputs": [],
   "source": []
  },
  {
   "cell_type": "code",
   "execution_count": null,
   "id": "30a3de6d",
   "metadata": {},
   "outputs": [],
   "source": []
  },
  {
   "cell_type": "code",
   "execution_count": null,
   "id": "98c0a40a",
   "metadata": {},
   "outputs": [],
   "source": []
  },
  {
   "cell_type": "code",
   "execution_count": null,
   "id": "18321bbc",
   "metadata": {},
   "outputs": [],
   "source": []
  },
  {
   "cell_type": "code",
   "execution_count": null,
   "id": "48a40af9",
   "metadata": {},
   "outputs": [],
   "source": []
  }
 ],
 "metadata": {
  "kernelspec": {
   "display_name": "Python 3 (ipykernel)",
   "language": "python",
   "name": "python3"
  },
  "language_info": {
   "codemirror_mode": {
    "name": "ipython",
    "version": 3
   },
   "file_extension": ".py",
   "mimetype": "text/x-python",
   "name": "python",
   "nbconvert_exporter": "python",
   "pygments_lexer": "ipython3",
   "version": "3.10.9"
  }
 },
 "nbformat": 4,
 "nbformat_minor": 5
}
